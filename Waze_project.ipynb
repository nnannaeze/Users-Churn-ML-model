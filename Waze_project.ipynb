{
 "cells": [
  {
   "cell_type": "markdown",
   "id": "cb268f6d-9212-4cbe-8f5d-0a4eb452d389",
   "metadata": {},
   "source": [
    "# **Waze Project**"
   ]
  },
  {
   "cell_type": "markdown",
   "id": "9ca04197-3496-4fd4-b6c4-0cdae9356ae7",
   "metadata": {},
   "source": [
    " ## **Case Study**\n",
    "Waze’s free navigation app makes it easier for drivers around the world to get to where they want to go. Waze’s community of map editors, beta testers, translators, partners, and users helps make each drive better and safer. Waze partners with cities, transportation authorities, broadcasters, businesses, and first responders to help as many people as possible travel more efficiently and safely. \n",
    "\n",
    "The Management of Waze company in a bid to increase growth, wants to improve their users experience and as a result, prevent  Users churn. Churn quantifies the number of users who have uninstalled the Waze app or stopped using the app. This project focuses on monthly user churn. \n",
    "\n",
    "Our **Goal**: Develope a churn prediction model thaat will help prevent churn, improve user retention, and grow Waze’s business. An accurate model can also help identify specific factors that contribute to churn and answer questions such as: \n",
    "\n",
    "* Who are the users most likely to churn?\n",
    "* Why do users churn?\n",
    "* When do users churn?\n",
    "\n",
    "if Waze can identify a segment of users who are at high risk of churning, Waze can proactively engage these users with special offers to try and retain them. Otherwise, Waze may lose these users without knowing why. \n",
    "\n",
    "This project will help Waze leadership optimize the company’s retention strategy, enhance user experience, and make data-driven decisions about product development."
   ]
  },
  {
   "cell_type": "markdown",
   "id": "f55ebade-e2a8-493b-868c-6c588a807e55",
   "metadata": {},
   "source": [
    "***This activity has three parts:***\n",
    "\n",
    "**Part 1:** Ethical considerations\n",
    "* we'll Consider the ethical implications of the request\n",
    "\n",
    "* Should the objective of the model be adjusted?\n",
    "\n",
    "**Part 2:** Feature engineering\n",
    "\n",
    "* we'll Perform feature selection, extraction, and transformation to prepare the data for modeling\n",
    "\n",
    "**Part 3:** Modeling\n",
    "\n",
    "* we'll Build the following models\n",
    "    * Random Forest Model\n",
    "    * XGBoost model\n",
    "*  evaluate them, and advise on next steps"
   ]
  },
  {
   "cell_type": "markdown",
   "id": "f9697139-659f-414b-8259-637d68da3381",
   "metadata": {},
   "source": [
    "#### Modeling design and target variable\n",
    "\n",
    "The dataset dictionary shows that there is a column called `label`. This is a binary value that indicates whether a user will churn or be retained. This will be the target variable. In other words, for each user, the model should predict whether the user will churn or be retained.\n",
    "\n",
    "This is a classification task because the model is predicting a binary class."
   ]
  },
  {
   "cell_type": "markdown",
   "id": "9e04e973-7e5b-4892-ae75-4b4db7e11f79",
   "metadata": {},
   "source": [
    "# **Build a machine learning model**"
   ]
  },
  {
   "cell_type": "markdown",
   "id": "53edb6ed-34d6-4ffd-8ba8-a5d6bf74b4dd",
   "metadata": {},
   "source": [
    "Throughout these project notebooks, we'll reference to the problem-solving framework PACE. The following notebook components are labeled with the respective PACE stage: Plan, Analyze, Construct, and Execute."
   ]
  },
  {
   "cell_type": "markdown",
   "id": "7cc8910d-a3ed-4b1e-b946-1ae5a39ee608",
   "metadata": {},
   "source": [
    "## **PACE: Plan**\n",
    "\n",
    "Consider the questions in your PACE Strategy Document to reflect on the Plan stage.\n",
    "\n",
    "In this stage, we'll consider the following questions:\n",
    "\n",
    "1.   What are we being asked to do?\n",
    "> _Predict if a customer will churn or be retained._\n",
    "\n",
    "2.   What are the ethical implications of the model? What are the consequences of our model making errors?\n",
    "  *   What is the likely effect of the model when it predicts a false negative (i.e., when the model says a Waze user won't churn, but they actually will)?\n",
    "  > _Waze will fail to take proactive measures to retain users who are likely to stop using the app. For example, Waze might proactively push an app notification to users, or send a survey to better understand user dissatisfaction._\n",
    "  *   What is the likely effect of the model when it predicts a false positive (i.e., when the model says a Waze user will churn, but they actually won't)?\n",
    "  > _Waze may take proactive measures to retain users who are NOT likely to churn. This may lead to an annoying or negative experience for loyal users of the app._\n",
    "3.   Do the benefits of such a model outweigh the potential problems?\n",
    "  > _The proactive measueres taken by Waze might have unintended effects on users, and these effects might encourage user churn. Follow-up analysis on the effectiveness of the measures is recommended. If the measures are reasonable and effective, then the benefits will most likely outweigh the problems._\n",
    "4.   Would you proceed with the request to build this model? Why or why not?\n",
    "\n",
    "  >_Yes. There aren't any significant risks for building such a model._\n"
   ]
  },
  {
   "cell_type": "markdown",
   "id": "0c6d5228-e8ef-4804-a3f7-9711f1d9f94e",
   "metadata": {},
   "source": [
    "### Familiarize Ourselves with the Dataset"
   ]
  },
  {
   "cell_type": "markdown",
   "id": "fa90d953-c2e2-4152-b935-f1f7579228a4",
   "metadata": {},
   "source": [
    "#### **`sessions`**\n",
    "The number of occurrences of a user opening the app during the month"
   ]
  },
  {
   "cell_type": "markdown",
   "id": "a451bb81-57b8-441c-af80-7084337072ea",
   "metadata": {},
   "source": [
    "#### **`drives`**\n",
    "\n",
    "_An occurrence of driving at least 1 km during the month_"
   ]
  },
  {
   "cell_type": "markdown",
   "id": "ddaa71f6-83fe-4940-8ac6-e801b8e09643",
   "metadata": {},
   "source": [
    "#### **`total_sessions`**\n",
    "\n",
    "_A model estimate of the total number of sessions since a user has onboarded_"
   ]
  },
  {
   "cell_type": "markdown",
   "id": "32ef1480-bdee-4816-8555-a8809d3eabc4",
   "metadata": {},
   "source": [
    "#### **`n_days_after_onboarding`**\n",
    "\n",
    "_The number of days since a user signed up for the app_"
   ]
  },
  {
   "cell_type": "markdown",
   "id": "026d5ed7-4710-4647-80fe-83df7b6e0ae6",
   "metadata": {},
   "source": [
    "#### **`driven_km_drives`**\n",
    "\n",
    "_Total kilometers driven during the month_"
   ]
  },
  {
   "cell_type": "markdown",
   "id": "da8ee434-4c44-45e7-ac9e-cf25961fbe4b",
   "metadata": {},
   "source": [
    "#### **`duration_minutes_drives`**\n",
    "\n",
    "_Total duration driven in minutes during the month_"
   ]
  },
  {
   "cell_type": "markdown",
   "id": "75391377-295d-4e55-9d88-6b88be493285",
   "metadata": {},
   "source": [
    "#### **`activity_days`**\n",
    "\n",
    "_Number of days the user opens the app during the month_"
   ]
  },
  {
   "cell_type": "markdown",
   "id": "bb42b6ff-a336-4907-a32a-bb358736080f",
   "metadata": {},
   "source": [
    "#### **`driving_days`**\n",
    "\n",
    "_Number of days the user drives (at least 1 km) during the month_"
   ]
  },
  {
   "cell_type": "markdown",
   "id": "e780ba8e-abcf-47e2-b7c9-7eac6de53b78",
   "metadata": {},
   "source": [
    "#### **`device`**\n",
    "\n",
    "_The type of device a user starts a session with_"
   ]
  },
  {
   "cell_type": "markdown",
   "id": "69d1ea8e-3d40-4d2e-b56e-9a58a6402dad",
   "metadata": {},
   "source": [
    "### **Task 1. Imports and data loading**\n",
    "\n",
    "\r\n",
    "Import packages and libraries needed to build and evaluate random forest and XGBoost classification models."
   ]
  },
  {
   "cell_type": "code",
   "execution_count": 2,
   "id": "8145ad2f-6c5e-403b-8614-7e76faeab1bb",
   "metadata": {},
   "outputs": [],
   "source": [
    "# Import packages for data manipulation\n",
    "import numpy as np\n",
    "import pandas as pd\n",
    "\n",
    "# Import packages for data visualization\n",
    "import matplotlib.pyplot as plt\n",
    "import seaborn as sns\n",
    "\n",
    "# This lets us see all of the columns, preventing Juptyer from redacting them.\n",
    "pd.set_option('display.max_columns', None)\n",
    "\n",
    "# Import packages for data modeling\n",
    "from sklearn.model_selection import GridSearchCV, train_test_split\n",
    "from sklearn.metrics import roc_auc_score, roc_curve, auc\n",
    "from sklearn.metrics import accuracy_score, precision_score, recall_score,\\\n",
    "f1_score, confusion_matrix, ConfusionMatrixDisplay, RocCurveDisplay, PrecisionRecallDisplay\n",
    "\n",
    "from sklearn.ensemble import RandomForestClassifier\n",
    "from xgboost import XGBClassifier\n",
    "\n",
    "# This is the function that helps plot feature importance\n",
    "from xgboost import plot_importance\n",
    "\n",
    "# This module lets us save our models once we fit them.\n",
    "import pickle"
   ]
  },
  {
   "cell_type": "markdown",
   "id": "fad2cb2e-3806-45df-82ea-aca18befebdd",
   "metadata": {},
   "source": [
    "Now read in the dataset as `df0` and inspect the first five rows."
   ]
  },
  {
   "cell_type": "code",
   "execution_count": 3,
   "id": "c67d13ac-771c-400c-94ad-accd13a2721c",
   "metadata": {},
   "outputs": [],
   "source": [
    "# Import dataset\n",
    "df0 = pd.read_csv('waze_dataset.csv')"
   ]
  },
  {
   "cell_type": "code",
   "execution_count": 4,
   "id": "9f26e00d-a327-4aca-9368-062ec5327b22",
   "metadata": {},
   "outputs": [
    {
     "data": {
      "text/html": [
       "<div>\n",
       "<style scoped>\n",
       "    .dataframe tbody tr th:only-of-type {\n",
       "        vertical-align: middle;\n",
       "    }\n",
       "\n",
       "    .dataframe tbody tr th {\n",
       "        vertical-align: top;\n",
       "    }\n",
       "\n",
       "    .dataframe thead th {\n",
       "        text-align: right;\n",
       "    }\n",
       "</style>\n",
       "<table border=\"1\" class=\"dataframe\">\n",
       "  <thead>\n",
       "    <tr style=\"text-align: right;\">\n",
       "      <th></th>\n",
       "      <th>ID</th>\n",
       "      <th>label</th>\n",
       "      <th>sessions</th>\n",
       "      <th>drives</th>\n",
       "      <th>total_sessions</th>\n",
       "      <th>n_days_after_onboarding</th>\n",
       "      <th>total_navigations_fav1</th>\n",
       "      <th>total_navigations_fav2</th>\n",
       "      <th>driven_km_drives</th>\n",
       "      <th>duration_minutes_drives</th>\n",
       "      <th>activity_days</th>\n",
       "      <th>driving_days</th>\n",
       "      <th>device</th>\n",
       "    </tr>\n",
       "  </thead>\n",
       "  <tbody>\n",
       "    <tr>\n",
       "      <th>0</th>\n",
       "      <td>0</td>\n",
       "      <td>retained</td>\n",
       "      <td>283</td>\n",
       "      <td>226</td>\n",
       "      <td>296.748273</td>\n",
       "      <td>2276</td>\n",
       "      <td>208</td>\n",
       "      <td>0</td>\n",
       "      <td>2628.845068</td>\n",
       "      <td>1985.775061</td>\n",
       "      <td>28</td>\n",
       "      <td>19</td>\n",
       "      <td>Android</td>\n",
       "    </tr>\n",
       "    <tr>\n",
       "      <th>1</th>\n",
       "      <td>1</td>\n",
       "      <td>retained</td>\n",
       "      <td>133</td>\n",
       "      <td>107</td>\n",
       "      <td>326.896596</td>\n",
       "      <td>1225</td>\n",
       "      <td>19</td>\n",
       "      <td>64</td>\n",
       "      <td>13715.920550</td>\n",
       "      <td>3160.472914</td>\n",
       "      <td>13</td>\n",
       "      <td>11</td>\n",
       "      <td>iPhone</td>\n",
       "    </tr>\n",
       "    <tr>\n",
       "      <th>2</th>\n",
       "      <td>2</td>\n",
       "      <td>retained</td>\n",
       "      <td>114</td>\n",
       "      <td>95</td>\n",
       "      <td>135.522926</td>\n",
       "      <td>2651</td>\n",
       "      <td>0</td>\n",
       "      <td>0</td>\n",
       "      <td>3059.148818</td>\n",
       "      <td>1610.735904</td>\n",
       "      <td>14</td>\n",
       "      <td>8</td>\n",
       "      <td>Android</td>\n",
       "    </tr>\n",
       "    <tr>\n",
       "      <th>3</th>\n",
       "      <td>3</td>\n",
       "      <td>retained</td>\n",
       "      <td>49</td>\n",
       "      <td>40</td>\n",
       "      <td>67.589221</td>\n",
       "      <td>15</td>\n",
       "      <td>322</td>\n",
       "      <td>7</td>\n",
       "      <td>913.591123</td>\n",
       "      <td>587.196542</td>\n",
       "      <td>7</td>\n",
       "      <td>3</td>\n",
       "      <td>iPhone</td>\n",
       "    </tr>\n",
       "    <tr>\n",
       "      <th>4</th>\n",
       "      <td>4</td>\n",
       "      <td>retained</td>\n",
       "      <td>84</td>\n",
       "      <td>68</td>\n",
       "      <td>168.247020</td>\n",
       "      <td>1562</td>\n",
       "      <td>166</td>\n",
       "      <td>5</td>\n",
       "      <td>3950.202008</td>\n",
       "      <td>1219.555924</td>\n",
       "      <td>27</td>\n",
       "      <td>18</td>\n",
       "      <td>Android</td>\n",
       "    </tr>\n",
       "  </tbody>\n",
       "</table>\n",
       "</div>"
      ],
      "text/plain": [
       "   ID     label  sessions  drives  total_sessions  n_days_after_onboarding  \\\n",
       "0   0  retained       283     226      296.748273                     2276   \n",
       "1   1  retained       133     107      326.896596                     1225   \n",
       "2   2  retained       114      95      135.522926                     2651   \n",
       "3   3  retained        49      40       67.589221                       15   \n",
       "4   4  retained        84      68      168.247020                     1562   \n",
       "\n",
       "   total_navigations_fav1  total_navigations_fav2  driven_km_drives  \\\n",
       "0                     208                       0       2628.845068   \n",
       "1                      19                      64      13715.920550   \n",
       "2                       0                       0       3059.148818   \n",
       "3                     322                       7        913.591123   \n",
       "4                     166                       5       3950.202008   \n",
       "\n",
       "   duration_minutes_drives  activity_days  driving_days   device  \n",
       "0              1985.775061             28            19  Android  \n",
       "1              3160.472914             13            11   iPhone  \n",
       "2              1610.735904             14             8  Android  \n",
       "3               587.196542              7             3   iPhone  \n",
       "4              1219.555924             27            18  Android  "
      ]
     },
     "execution_count": 4,
     "metadata": {},
     "output_type": "execute_result"
    }
   ],
   "source": [
    "# Inspect the first five rows\n",
    "df0.head()"
   ]
  },
  {
   "cell_type": "code",
   "execution_count": 5,
   "id": "bd07af80-980d-4591-b585-60c10588de1a",
   "metadata": {},
   "outputs": [
    {
     "data": {
      "text/plain": [
       "array(['retained', 'churned', nan], dtype=object)"
      ]
     },
     "execution_count": 5,
     "metadata": {},
     "output_type": "execute_result"
    }
   ],
   "source": [
    "df0.label.unique()"
   ]
  },
  {
   "cell_type": "markdown",
   "id": "06f1d6b9-fcff-4091-8e84-f4131b3b2c97",
   "metadata": {},
   "source": [
    "## **PACE: Analyze**\n",
    "Consider the questions in your PACE Strategy Document to reflect on the Analyze stage."
   ]
  },
  {
   "cell_type": "markdown",
   "id": "c5f7d51d-815e-4c0f-8556-af8613e8d0d0",
   "metadata": {},
   "source": [
    "we'll Analyze and discover data, looking for correlations, missing data, potential outliers, and/or duplicates."
   ]
  },
  {
   "cell_type": "code",
   "execution_count": 6,
   "id": "85f01320-cb5a-4ab0-a81a-c61ff021cb28",
   "metadata": {},
   "outputs": [
    {
     "name": "stdout",
     "output_type": "stream",
     "text": [
      "(14999, 13)\n",
      "<class 'pandas.core.frame.DataFrame'>\n",
      "RangeIndex: 14999 entries, 0 to 14998\n",
      "Data columns (total 13 columns):\n",
      " #   Column                   Non-Null Count  Dtype  \n",
      "---  ------                   --------------  -----  \n",
      " 0   ID                       14999 non-null  int64  \n",
      " 1   label                    14299 non-null  object \n",
      " 2   sessions                 14999 non-null  int64  \n",
      " 3   drives                   14999 non-null  int64  \n",
      " 4   total_sessions           14999 non-null  float64\n",
      " 5   n_days_after_onboarding  14999 non-null  int64  \n",
      " 6   total_navigations_fav1   14999 non-null  int64  \n",
      " 7   total_navigations_fav2   14999 non-null  int64  \n",
      " 8   driven_km_drives         14999 non-null  float64\n",
      " 9   duration_minutes_drives  14999 non-null  float64\n",
      " 10  activity_days            14999 non-null  int64  \n",
      " 11  driving_days             14999 non-null  int64  \n",
      " 12  device                   14999 non-null  object \n",
      "dtypes: float64(3), int64(8), object(2)\n",
      "memory usage: 1.5+ MB\n"
     ]
    }
   ],
   "source": [
    "print(df0.shape)\n",
    "\n",
    "df0.info()"
   ]
  },
  {
   "cell_type": "markdown",
   "id": "17194dff-86d9-483c-804e-7a9233c03bc1",
   "metadata": {},
   "source": [
    "#### Data types contained in the dataset\n",
    "Get the data types of the columns."
   ]
  },
  {
   "cell_type": "code",
   "execution_count": 7,
   "id": "661dcc81-4549-4f3a-b5e7-8abd027f50b9",
   "metadata": {},
   "outputs": [
    {
     "data": {
      "text/plain": [
       "ID                           int64\n",
       "label                       object\n",
       "sessions                     int64\n",
       "drives                       int64\n",
       "total_sessions             float64\n",
       "n_days_after_onboarding      int64\n",
       "total_navigations_fav1       int64\n",
       "total_navigations_fav2       int64\n",
       "driven_km_drives           float64\n",
       "duration_minutes_drives    float64\n",
       "activity_days                int64\n",
       "driving_days                 int64\n",
       "device                      object\n",
       "dtype: object"
      ]
     },
     "execution_count": 7,
     "metadata": {},
     "output_type": "execute_result"
    }
   ],
   "source": [
    "# Get data types of columns\n",
    "df0.dtypes"
   ]
  },
  {
   "cell_type": "markdown",
   "id": "54b18e43-1d2f-4874-9c48-2799230bdd4b",
   "metadata": {},
   "source": [
    "#### Missing values \n",
    "Lets check for and handle missing values."
   ]
  },
  {
   "cell_type": "code",
   "execution_count": 8,
   "id": "260f5be9-e91f-4d8d-aaa1-694885bcdb0d",
   "metadata": {},
   "outputs": [
    {
     "data": {
      "text/plain": [
       "ID                           0\n",
       "label                      700\n",
       "sessions                     0\n",
       "drives                       0\n",
       "total_sessions               0\n",
       "n_days_after_onboarding      0\n",
       "total_navigations_fav1       0\n",
       "total_navigations_fav2       0\n",
       "driven_km_drives             0\n",
       "duration_minutes_drives      0\n",
       "activity_days                0\n",
       "driving_days                 0\n",
       "device                       0\n",
       "dtype: int64"
      ]
     },
     "execution_count": 8,
     "metadata": {},
     "output_type": "execute_result"
    }
   ],
   "source": [
    "# Check for missing values\n",
    "df0.isna().sum()"
   ]
  },
  {
   "cell_type": "markdown",
   "id": "c58045a6-07bb-43f2-a9cb-006041885e54",
   "metadata": {},
   "source": [
    "We have 700 missing values in the Label column which is our outcome variable.\n",
    "\n",
    "lets check the percentage of the missing vakues"
   ]
  },
  {
   "cell_type": "code",
   "execution_count": 9,
   "id": "72a94f3f-aae7-4bbf-b200-2d1518fbd5ba",
   "metadata": {},
   "outputs": [
    {
     "name": "stdout",
     "output_type": "stream",
     "text": [
      "4.67 %\n"
     ]
    }
   ],
   "source": [
    "print(round(700/df0.shape[0]*100,2),'%')"
   ]
  },
  {
   "cell_type": "markdown",
   "id": "2c66bbe6-5296-46a2-b098-25c854784591",
   "metadata": {},
   "source": [
    "The missing rows are not up to 5% therefore we will proceed to drop them"
   ]
  },
  {
   "cell_type": "markdown",
   "id": "2b200ae2-b5da-4994-b984-6dac278ea09a",
   "metadata": {},
   "source": [
    "#### Drop Missing values\n",
    "We will drop the rows with the missing values as they are less than 2% of the data rows"
   ]
  },
  {
   "cell_type": "code",
   "execution_count": 10,
   "id": "52d07311-8f65-4a6a-ac05-9aebd8ed75a7",
   "metadata": {},
   "outputs": [],
   "source": [
    "# Drop rows with missing values\n",
    "df0 = df0.dropna(axis=0)"
   ]
  },
  {
   "cell_type": "code",
   "execution_count": 11,
   "id": "58a308e0-be7b-4a2d-8888-3a82bbe88577",
   "metadata": {},
   "outputs": [
    {
     "data": {
      "text/plain": [
       "(14299, 13)"
      ]
     },
     "execution_count": 11,
     "metadata": {},
     "output_type": "execute_result"
    }
   ],
   "source": [
    "#re checking the size of the data after droping NaN\n",
    "df0.shape"
   ]
  },
  {
   "cell_type": "markdown",
   "id": "4a6a8ff7-3de4-4e87-9583-80abcfd17ff3",
   "metadata": {},
   "source": [
    "#### **`sessions`**\n",
    "\n",
    "_The number of occurrences of a user opening the app during the month_"
   ]
  },
  {
   "cell_type": "markdown",
   "id": "3f0d8838-c550-4e7f-8216-d81c9d032409",
   "metadata": {},
   "source": [
    "### **Task 2. Feature engineering & Analysis**\n",
    "\n",
    "We will performed exploratory data analysis (EDA) on this dataset to understand which features has stronger correlation with our Predictor variable `label` than others, and we'll also create some features that may be useful.\n",
    "\n",
    "In this part of the project, we'll engineer these features and some new features to use for modeling.\n",
    "\n",
    "To begin, create a copy of `df0` to preserve the original dataframe. Call the copy `df`."
   ]
  },
  {
   "cell_type": "markdown",
   "id": "bd06b1cb-f1a2-4e52-841d-1e5998365162",
   "metadata": {},
   "source": [
    "#### Check Duplicates \n",
    "Check for and handle duplicates."
   ]
  },
  {
   "cell_type": "code",
   "execution_count": 12,
   "id": "329833b3-7509-4632-b926-5ffff753598f",
   "metadata": {},
   "outputs": [
    {
     "data": {
      "text/plain": [
       "0"
      ]
     },
     "execution_count": 12,
     "metadata": {},
     "output_type": "execute_result"
    }
   ],
   "source": [
    "# Check for duplicates\n",
    "df0.duplicated().sum()"
   ]
  },
  {
   "cell_type": "markdown",
   "id": "0778b5dd-0375-42f5-a259-b3e4baf32f82",
   "metadata": {},
   "source": [
    "No duplicates are contained in the data"
   ]
  },
  {
   "cell_type": "code",
   "execution_count": 13,
   "id": "8af81962-eb48-4719-b2a4-ec9ee5c7c638",
   "metadata": {},
   "outputs": [],
   "source": [
    "# Copy the df0 dataframe\n",
    "df = df0.copy()"
   ]
  },
  {
   "cell_type": "markdown",
   "id": "79e5ada5-92e9-4be3-9242-84ee6a8d5279",
   "metadata": {},
   "source": [
    "#### **`driving_days` vs. `activity_days`**\n",
    "\n",
    "Because both `driving_days` and `activity_days` represent counts of days over a month and they're also closely related, you can plot them together on a single histogram. This will help to better understand how they relate to each other without having to scroll back and forth comparing histograms in two different places.\r\n",
    "\r\n",
    "Plot a histogram that, for each day, has a bar representing the counts of `driving_days` and `user_days`."
   ]
  },
  {
   "cell_type": "code",
   "execution_count": 14,
   "id": "7b862dc7-3d3a-40b8-b2d3-d47d840f332f",
   "metadata": {},
   "outputs": [
    {
     "data": {
      "image/png": "[encoded data removed]",
      "text/plain": [
       "<Figure size 1200x400 with 1 Axes>"
      ]
     },
     "metadata": {},
     "output_type": "display_data"
    }
   ],
   "source": [
    "# Histogram\n",
    "plt.figure(figsize=(12,4))\n",
    "label=['driving days', 'activity days']\n",
    "plt.hist([df['driving_days'], df['activity_days']],\n",
    "         bins=range(0,33),\n",
    "         label=label)\n",
    "plt.xlabel('days')\n",
    "plt.ylabel('count')\n",
    "plt.legend()\n",
    "plt.title('driving_days vs. activity_days');"
   ]
  },
  {
   "cell_type": "markdown",
   "id": "e0e94cd1-8f8f-4e85-b993-3e9452528a57",
   "metadata": {},
   "source": [
    "#### Observation:\n",
    "There are people who drive without opening the App, this might seem counterintuitive.\n",
    "\n",
    "On the other hand, it could just be illustrative of the fact that, while these variables are related to each other, they're not the same. People probably just open the app more than they use the app to drive&mdash;perhaps to check drive times or route information, to update settings, or even just by mistake.\n",
    "\n",
    "Nonetheless, it might be worthwile to contact the data team at Waze to get more information about this, especially because it seems that the number of days in the month is not the same between variables.\n",
    "\n",
    "Confirm the maximum number of days for each variable&mdash;`driving_days` and `activity_days`."
   ]
  },
  {
   "cell_type": "code",
   "execution_count": 15,
   "id": "942f49f7-ee2a-4283-b5c3-0f0f57bee1c3",
   "metadata": {},
   "outputs": [
    {
     "name": "stdout",
     "output_type": "stream",
     "text": [
      "30\n",
      "31\n"
     ]
    }
   ],
   "source": [
    "print(df['driving_days'].max())\n",
    "print(df['activity_days'].max())"
   ]
  },
  {
   "cell_type": "markdown",
   "id": "a4e508a8-07ab-40f9-ade0-3971aa5c4b61",
   "metadata": {},
   "source": [
    "It's true. Although it's possible that not a single user drove all 31 days of the month, it's highly unlikely, considering there are 15,000 people represented in the dataset.\n",
    "\n",
    "One other way to check the validity of these variables is to plot a simple scatter plot with the x-axis representing one variable and the y-axis representing the other."
   ]
  },
  {
   "cell_type": "code",
   "execution_count": 16,
   "id": "df767073-c697-4209-93dd-c841e2827a92",
   "metadata": {},
   "outputs": [
    {
     "data": {
      "image/png": "[encoded data removed]",
      "text/plain": [
       "<Figure size 640x480 with 1 Axes>"
      ]
     },
     "metadata": {},
     "output_type": "display_data"
    }
   ],
   "source": [
    "# Scatter plot\n",
    "sns.scatterplot(data=df, x='driving_days', y='activity_days')\n",
    "plt.title('driving_days vs. activity_days')\n",
    "plt.plot([0,31], [0,31], color='red', linestyle='--');"
   ]
  },
  {
   "cell_type": "markdown",
   "id": "09ea678a-570d-420c-8c83-4bd8117d08f9",
   "metadata": {},
   "source": [
    "#### Observation:\n",
    "Notice that there is a theoretical limit. If you use the app to drive, then by definition it must count as a day-use as well. In other words, you cannot have more drive-days than activity-days. None of the samples in this data violate this rule, which is good."
   ]
  },
  {
   "cell_type": "markdown",
   "id": "e8786943-f1bc-45fd-9011-1d0eebb2fdfb",
   "metadata": {},
   "source": [
    "#### **Retention by device**\n",
    "\n",
    "Plot a histogram that has four bars&mdash;one for each device-label combination&mdash;to show how many iPhone users were retained/churned and how many Android users were retained/churned."
   ]
  },
  {
   "cell_type": "code",
   "execution_count": 17,
   "id": "14ab158b-ac0a-43ff-86f9-23c9f6ed33f4",
   "metadata": {
    "scrolled": true
   },
   "outputs": [
    {
     "name": "stderr",
     "output_type": "stream",
     "text": [
      "C:\\Users\\USER\\anaconda3\\Lib\\site-packages\\seaborn\\_oldcore.py:1119: FutureWarning: use_inf_as_na option is deprecated and will be removed in a future version. Convert inf values to NaN before operating instead.\n",
      "  with pd.option_context('mode.use_inf_as_na', True):\n"
     ]
    },
    {
     "data": {
      "image/png": "[encoded data removed]",
      "text/plain": [
       "<Figure size 500x400 with 1 Axes>"
      ]
     },
     "metadata": {},
     "output_type": "display_data"
    }
   ],
   "source": [
    "# Histogram\n",
    "plt.figure(figsize=(5,4))\n",
    "sns.histplot(data=df,\n",
    "             x='device',\n",
    "             hue='label',\n",
    "             multiple='dodge',\n",
    "             shrink=0.9\n",
    "             )\n",
    "plt.title('Retention by device histogram');"
   ]
  },
  {
   "cell_type": "markdown",
   "id": "2428d607-2cb3-4311-a412-03fb503fdfff",
   "metadata": {},
   "source": [
    "### **Feature Engineering**\n",
    "We will need to create Features to enable us draw meaningful insights from the dataset"
   ]
  },
  {
   "cell_type": "markdown",
   "id": "a88c582a-693e-4db4-b67b-31151850f294",
   "metadata": {},
   "source": [
    "#### **`km_per_driving_day`**\n",
    "\n",
    "You know from earlier EDA that churn rate correlates with distance driven per driving day in the last month. It might be helpful to engineer a feature that captures this information.\n",
    "\n",
    "1. Create a new column in `df` called `km_per_driving_day`, which represents the mean distance driven per driving day for each user.\n",
    "\n",
    "2. Call the `describe()` method on the new column."
   ]
  },
  {
   "cell_type": "code",
   "execution_count": 18,
   "id": "f0099ff5-109b-4bb9-8adc-96a4cd04d1de",
   "metadata": {},
   "outputs": [
    {
     "data": {
      "text/plain": [
       "count    1.429900e+04\n",
       "mean              inf\n",
       "std               NaN\n",
       "min      3.022063e+00\n",
       "25%      1.675616e+02\n",
       "50%      3.241789e+02\n",
       "75%      7.608293e+02\n",
       "max               inf\n",
       "Name: km_per_driving_day, dtype: float64"
      ]
     },
     "execution_count": 18,
     "metadata": {},
     "output_type": "execute_result"
    }
   ],
   "source": [
    "df['km_per_driving_day'] = df['driven_km_drives']/df['driving_days']\n",
    "\n",
    "df['km_per_driving_day'].describe()"
   ]
  },
  {
   "cell_type": "markdown",
   "id": "28139bd5-002f-41bf-81e4-d640e2681707",
   "metadata": {},
   "source": [
    "**Note** that some values are infinite. This is the result of there being values of zero in the `driving_days` column. Pandas imputes a value of infinity in the corresponding rows of the new column because division by zero is undefined.\n",
    "\n",
    "1. Convert these values from infinity to zero. You can use `np.inf` to refer to a value of infinity.\n",
    "\n",
    "2. Call `describe()` on the `km_per_driving_day` column to verify that it worked."
   ]
  },
  {
   "cell_type": "code",
   "execution_count": 19,
   "id": "205699cb-f166-445c-837c-97b554898b33",
   "metadata": {},
   "outputs": [
    {
     "data": {
      "text/plain": [
       "count    14299.000000\n",
       "mean       581.942399\n",
       "std       1038.254509\n",
       "min          0.000000\n",
       "25%        136.168003\n",
       "50%        273.301012\n",
       "75%        558.018761\n",
       "max      15420.234110\n",
       "Name: km_per_driving_day, dtype: float64"
      ]
     },
     "execution_count": 19,
     "metadata": {},
     "output_type": "execute_result"
    }
   ],
   "source": [
    "# 1. Convert infinite values to zero\n",
    "df.loc[df['km_per_driving_day']==np.inf, 'km_per_driving_day'] = 0\n",
    "\n",
    "# 2. Confirm that it worked\n",
    "df['km_per_driving_day'].describe()"
   ]
  },
  {
   "cell_type": "markdown",
   "id": "a043a72f-29ed-4d06-af88-a9b46e1b469c",
   "metadata": {},
   "source": [
    "The maximum value is 15,420 kilometers _per drive day_. This is physically impossible. Driving 100 km/hour for 12 hours is 1,200 km. It's unlikely many people averaged more than this each day they drove, so, for now, we'll disregard rows where the distance in this column is greater than 1,200 km.\n",
    "\n",
    "We'll plot a histogram of the new `km_per_driving_day` column, disregarding those users with values greater than 1,200 km. Each bar should be the same length and have two colors, one color representing the percent of the users in that bar that churned and the other representing the percent that were retained. This can be done by setting the `multiple` parameter of seaborn's [`histplot()`](https://seaborn.pydata.org/generated/seaborn.histplot.html) function to `fill`."
   ]
  },
  {
   "cell_type": "code",
   "execution_count": 20,
   "id": "5eb39f3f-2596-4c30-ab9e-60404154e799",
   "metadata": {},
   "outputs": [
    {
     "data": {
      "text/html": [
       "<div>\n",
       "<style scoped>\n",
       "    .dataframe tbody tr th:only-of-type {\n",
       "        vertical-align: middle;\n",
       "    }\n",
       "\n",
       "    .dataframe tbody tr th {\n",
       "        vertical-align: top;\n",
       "    }\n",
       "\n",
       "    .dataframe thead th {\n",
       "        text-align: right;\n",
       "    }\n",
       "</style>\n",
       "<table border=\"1\" class=\"dataframe\">\n",
       "  <thead>\n",
       "    <tr style=\"text-align: right;\">\n",
       "      <th></th>\n",
       "      <th>km_per_driving_day</th>\n",
       "    </tr>\n",
       "    <tr>\n",
       "      <th>label</th>\n",
       "      <th></th>\n",
       "    </tr>\n",
       "  </thead>\n",
       "  <tbody>\n",
       "    <tr>\n",
       "      <th>churned</th>\n",
       "      <td>407.597934</td>\n",
       "    </tr>\n",
       "    <tr>\n",
       "      <th>retained</th>\n",
       "      <td>256.056187</td>\n",
       "    </tr>\n",
       "  </tbody>\n",
       "</table>\n",
       "</div>"
      ],
      "text/plain": [
       "          km_per_driving_day\n",
       "label                       \n",
       "churned           407.597934\n",
       "retained          256.056187"
      ]
     },
     "execution_count": 20,
     "metadata": {},
     "output_type": "execute_result"
    }
   ],
   "source": [
    "df[['km_per_driving_day', 'label']].groupby('label').median()"
   ]
  },
  {
   "cell_type": "code",
   "execution_count": 21,
   "id": "78b3f44f-fa96-4af0-987a-22975885aafe",
   "metadata": {},
   "outputs": [
    {
     "name": "stderr",
     "output_type": "stream",
     "text": [
      "C:\\Users\\USER\\anaconda3\\Lib\\site-packages\\seaborn\\_oldcore.py:1119: FutureWarning: use_inf_as_na option is deprecated and will be removed in a future version. Convert inf values to NaN before operating instead.\n",
      "  with pd.option_context('mode.use_inf_as_na', True):\n"
     ]
    },
    {
     "data": {
      "image/png": "[encoded data removed]",
      "text/plain": [
       "<Figure size 1200x500 with 1 Axes>"
      ]
     },
     "metadata": {},
     "output_type": "display_data"
    }
   ],
   "source": [
    "# Histogram\n",
    "plt.figure(figsize=(12,5))\n",
    "sns.histplot(data=df,\n",
    "             x='km_per_driving_day',\n",
    "             bins=range(0,1201,20),\n",
    "             hue='label',\n",
    "             multiple='fill')\n",
    "plt.ylabel('%', rotation=0)\n",
    "plt.title('Churn rate by mean km per driving day');"
   ]
  },
  {
   "cell_type": "markdown",
   "id": "9d92f818-ab14-479d-bf60-360f480422e6",
   "metadata": {},
   "source": [
    "#### Observation:\n",
    "The churn rate tends to increase as the mean daily distance driven increases. It would be worth investigating further the reasons for long-distance users to discontinue using the app."
   ]
  },
  {
   "cell_type": "markdown",
   "id": "559c7607-1ad6-4638-8f43-9648d298de6a",
   "metadata": {},
   "source": [
    "#### **Churn rate per number of driving days**\n",
    "\n",
    "We'll create another histogram just like the previous one, only this time it should represent the churn rate for each number of driving days."
   ]
  },
  {
   "cell_type": "code",
   "execution_count": 22,
   "id": "6daf7214-73e8-4811-8616-88ddf0aee6bc",
   "metadata": {},
   "outputs": [
    {
     "name": "stderr",
     "output_type": "stream",
     "text": [
      "C:\\Users\\USER\\anaconda3\\Lib\\site-packages\\seaborn\\_oldcore.py:1119: FutureWarning: use_inf_as_na option is deprecated and will be removed in a future version. Convert inf values to NaN before operating instead.\n",
      "  with pd.option_context('mode.use_inf_as_na', True):\n"
     ]
    },
    {
     "data": {
      "image/png": "[encoded data removed]",
      "text/plain": [
       "<Figure size 1200x500 with 1 Axes>"
      ]
     },
     "metadata": {},
     "output_type": "display_data"
    }
   ],
   "source": [
    "# Histogram\n",
    "plt.figure(figsize=(12,5))\n",
    "sns.histplot(data=df,\n",
    "             x='driving_days',\n",
    "             bins=range(1,32),\n",
    "             hue='label',\n",
    "             multiple='fill',\n",
    "             discrete=True)\n",
    "plt.ylabel('%', rotation=0)\n",
    "plt.title('Churn rate per driving day');"
   ]
  },
  {
   "cell_type": "markdown",
   "id": "5acd32c1-8f5a-49cb-9b4e-dc9892998713",
   "metadata": {},
   "source": [
    "#### Observation:\n",
    "The churn rate is highest for people who didn't use Waze much during the last month. The more times they used the app, the less likely they were to churn. While 40% of the users who didn't use the app at all last month churned, nobody who used the app 30 days churned.\n",
    "\n",
    "This isn't surprising. If people who used the app a lot churned, it would likely indicate dissatisfaction. When people who don't use the app churn, it might be the result of dissatisfaction in the past, or it might be indicative of a lesser need for a navigational app. Maybe they moved to a city with good public transportation and don't need to drive anymore."
   ]
  },
  {
   "cell_type": "markdown",
   "id": "e1608e69-55e2-4f2b-8df5-cc9029fb21c9",
   "metadata": {},
   "source": [
    "#### **Retention by kilometers driven per driving day**\n",
    "\n",
    "In the previous course, you discovered that the median distance driven per driving day last month for users who churned was 608.78 km, versus 247.48 km for people who did not churn. Examine this further.\n",
    "\n",
    "1. Create a new column in `df` called `km_per_driving_day`, which represents the mean distance driven per driving day for each user.\n",
    "\n",
    "2. Call the `describe()` method on the new column."
   ]
  },
  {
   "cell_type": "markdown",
   "id": "cc15da9d-d0dd-4ab8-93b4-014b0b5bc1ed",
   "metadata": {},
   "source": [
    "#### Observation:\n",
    "The proportion of churned users to retained users is consistent between device types."
   ]
  },
  {
   "cell_type": "markdown",
   "id": "da496daf-49dd-44db-a048-eb81ed2e7474",
   "metadata": {},
   "source": [
    "#### **Encode categorical variables**\n",
    "\n",
    "we'll Change the data type of the `label` column to be binary. This change is needed to find correlations with other Categorical Features.\n",
    "\n",
    "Assign a `0` for all `retained` users.\n",
    "\n",
    "Assign a `1` for all `churned` users.\n",
    "\n",
    "Save this variable as `label2` as to not overwrite the original `label` variable.\n",
    "\n",
    "**Note:** There are many ways to do this. we'll use `np.where()`"
   ]
  },
  {
   "cell_type": "code",
   "execution_count": 23,
   "id": "b5ec13ac-3b55-4f70-8c42-db9471956424",
   "metadata": {},
   "outputs": [
    {
     "data": {
      "text/html": [
       "<div>\n",
       "<style scoped>\n",
       "    .dataframe tbody tr th:only-of-type {\n",
       "        vertical-align: middle;\n",
       "    }\n",
       "\n",
       "    .dataframe tbody tr th {\n",
       "        vertical-align: top;\n",
       "    }\n",
       "\n",
       "    .dataframe thead th {\n",
       "        text-align: right;\n",
       "    }\n",
       "</style>\n",
       "<table border=\"1\" class=\"dataframe\">\n",
       "  <thead>\n",
       "    <tr style=\"text-align: right;\">\n",
       "      <th></th>\n",
       "      <th>label</th>\n",
       "      <th>label2</th>\n",
       "    </tr>\n",
       "  </thead>\n",
       "  <tbody>\n",
       "    <tr>\n",
       "      <th>14994</th>\n",
       "      <td>retained</td>\n",
       "      <td>0</td>\n",
       "    </tr>\n",
       "    <tr>\n",
       "      <th>14995</th>\n",
       "      <td>retained</td>\n",
       "      <td>0</td>\n",
       "    </tr>\n",
       "    <tr>\n",
       "      <th>14996</th>\n",
       "      <td>retained</td>\n",
       "      <td>0</td>\n",
       "    </tr>\n",
       "    <tr>\n",
       "      <th>14997</th>\n",
       "      <td>churned</td>\n",
       "      <td>1</td>\n",
       "    </tr>\n",
       "    <tr>\n",
       "      <th>14998</th>\n",
       "      <td>retained</td>\n",
       "      <td>0</td>\n",
       "    </tr>\n",
       "  </tbody>\n",
       "</table>\n",
       "</div>"
      ],
      "text/plain": [
       "          label  label2\n",
       "14994  retained       0\n",
       "14995  retained       0\n",
       "14996  retained       0\n",
       "14997   churned       1\n",
       "14998  retained       0"
      ]
     },
     "execution_count": 23,
     "metadata": {},
     "output_type": "execute_result"
    }
   ],
   "source": [
    "# Create binary `label2` column\n",
    "df['label2'] = np.where(df['label']=='churned', 1, 0)\n",
    "df[['label', 'label2']].tail()"
   ]
  },
  {
   "cell_type": "markdown",
   "id": "ac17b8d1-2758-4950-91a1-9b4fe59e0269",
   "metadata": {},
   "source": [
    "#### Establishing Correlation "
   ]
  },
  {
   "cell_type": "code",
   "execution_count": 24,
   "id": "b9fede7d-e8c4-4969-bfa9-d976bec9d9c5",
   "metadata": {},
   "outputs": [
    {
     "data": {
      "text/html": [
       "<div>\n",
       "<style scoped>\n",
       "    .dataframe tbody tr th:only-of-type {\n",
       "        vertical-align: middle;\n",
       "    }\n",
       "\n",
       "    .dataframe tbody tr th {\n",
       "        vertical-align: top;\n",
       "    }\n",
       "\n",
       "    .dataframe thead th {\n",
       "        text-align: right;\n",
       "    }\n",
       "</style>\n",
       "<table border=\"1\" class=\"dataframe\">\n",
       "  <thead>\n",
       "    <tr style=\"text-align: right;\">\n",
       "      <th></th>\n",
       "      <th>ID</th>\n",
       "      <th>label</th>\n",
       "      <th>sessions</th>\n",
       "      <th>drives</th>\n",
       "      <th>total_sessions</th>\n",
       "      <th>n_days_after_onboarding</th>\n",
       "      <th>total_navigations_fav1</th>\n",
       "      <th>total_navigations_fav2</th>\n",
       "      <th>driven_km_drives</th>\n",
       "      <th>duration_minutes_drives</th>\n",
       "      <th>activity_days</th>\n",
       "      <th>driving_days</th>\n",
       "      <th>device</th>\n",
       "      <th>km_per_driving_day</th>\n",
       "      <th>label2</th>\n",
       "    </tr>\n",
       "  </thead>\n",
       "  <tbody>\n",
       "    <tr>\n",
       "      <th>0</th>\n",
       "      <td>0</td>\n",
       "      <td>retained</td>\n",
       "      <td>283</td>\n",
       "      <td>226</td>\n",
       "      <td>296.748273</td>\n",
       "      <td>2276</td>\n",
       "      <td>208</td>\n",
       "      <td>0</td>\n",
       "      <td>2628.845068</td>\n",
       "      <td>1985.775061</td>\n",
       "      <td>28</td>\n",
       "      <td>19</td>\n",
       "      <td>Android</td>\n",
       "      <td>138.360267</td>\n",
       "      <td>0</td>\n",
       "    </tr>\n",
       "    <tr>\n",
       "      <th>1</th>\n",
       "      <td>1</td>\n",
       "      <td>retained</td>\n",
       "      <td>133</td>\n",
       "      <td>107</td>\n",
       "      <td>326.896596</td>\n",
       "      <td>1225</td>\n",
       "      <td>19</td>\n",
       "      <td>64</td>\n",
       "      <td>13715.920550</td>\n",
       "      <td>3160.472914</td>\n",
       "      <td>13</td>\n",
       "      <td>11</td>\n",
       "      <td>iPhone</td>\n",
       "      <td>1246.901868</td>\n",
       "      <td>0</td>\n",
       "    </tr>\n",
       "    <tr>\n",
       "      <th>2</th>\n",
       "      <td>2</td>\n",
       "      <td>retained</td>\n",
       "      <td>114</td>\n",
       "      <td>95</td>\n",
       "      <td>135.522926</td>\n",
       "      <td>2651</td>\n",
       "      <td>0</td>\n",
       "      <td>0</td>\n",
       "      <td>3059.148818</td>\n",
       "      <td>1610.735904</td>\n",
       "      <td>14</td>\n",
       "      <td>8</td>\n",
       "      <td>Android</td>\n",
       "      <td>382.393602</td>\n",
       "      <td>0</td>\n",
       "    </tr>\n",
       "    <tr>\n",
       "      <th>3</th>\n",
       "      <td>3</td>\n",
       "      <td>retained</td>\n",
       "      <td>49</td>\n",
       "      <td>40</td>\n",
       "      <td>67.589221</td>\n",
       "      <td>15</td>\n",
       "      <td>322</td>\n",
       "      <td>7</td>\n",
       "      <td>913.591123</td>\n",
       "      <td>587.196542</td>\n",
       "      <td>7</td>\n",
       "      <td>3</td>\n",
       "      <td>iPhone</td>\n",
       "      <td>304.530374</td>\n",
       "      <td>0</td>\n",
       "    </tr>\n",
       "    <tr>\n",
       "      <th>4</th>\n",
       "      <td>4</td>\n",
       "      <td>retained</td>\n",
       "      <td>84</td>\n",
       "      <td>68</td>\n",
       "      <td>168.247020</td>\n",
       "      <td>1562</td>\n",
       "      <td>166</td>\n",
       "      <td>5</td>\n",
       "      <td>3950.202008</td>\n",
       "      <td>1219.555924</td>\n",
       "      <td>27</td>\n",
       "      <td>18</td>\n",
       "      <td>Android</td>\n",
       "      <td>219.455667</td>\n",
       "      <td>0</td>\n",
       "    </tr>\n",
       "  </tbody>\n",
       "</table>\n",
       "</div>"
      ],
      "text/plain": [
       "   ID     label  sessions  drives  total_sessions  n_days_after_onboarding  \\\n",
       "0   0  retained       283     226      296.748273                     2276   \n",
       "1   1  retained       133     107      326.896596                     1225   \n",
       "2   2  retained       114      95      135.522926                     2651   \n",
       "3   3  retained        49      40       67.589221                       15   \n",
       "4   4  retained        84      68      168.247020                     1562   \n",
       "\n",
       "   total_navigations_fav1  total_navigations_fav2  driven_km_drives  \\\n",
       "0                     208                       0       2628.845068   \n",
       "1                      19                      64      13715.920550   \n",
       "2                       0                       0       3059.148818   \n",
       "3                     322                       7        913.591123   \n",
       "4                     166                       5       3950.202008   \n",
       "\n",
       "   duration_minutes_drives  activity_days  driving_days   device  \\\n",
       "0              1985.775061             28            19  Android   \n",
       "1              3160.472914             13            11   iPhone   \n",
       "2              1610.735904             14             8  Android   \n",
       "3               587.196542              7             3   iPhone   \n",
       "4              1219.555924             27            18  Android   \n",
       "\n",
       "   km_per_driving_day  label2  \n",
       "0          138.360267       0  \n",
       "1         1246.901868       0  \n",
       "2          382.393602       0  \n",
       "3          304.530374       0  \n",
       "4          219.455667       0  "
      ]
     },
     "execution_count": 24,
     "metadata": {},
     "output_type": "execute_result"
    }
   ],
   "source": [
    "df.head()"
   ]
  },
  {
   "cell_type": "code",
   "execution_count": 25,
   "id": "63bde88b-60f7-4784-9fdd-fb6aab39e13e",
   "metadata": {},
   "outputs": [
    {
     "data": {
      "text/html": [
       "<div>\n",
       "<style scoped>\n",
       "    .dataframe tbody tr th:only-of-type {\n",
       "        vertical-align: middle;\n",
       "    }\n",
       "\n",
       "    .dataframe tbody tr th {\n",
       "        vertical-align: top;\n",
       "    }\n",
       "\n",
       "    .dataframe thead th {\n",
       "        text-align: right;\n",
       "    }\n",
       "</style>\n",
       "<table border=\"1\" class=\"dataframe\">\n",
       "  <thead>\n",
       "    <tr style=\"text-align: right;\">\n",
       "      <th></th>\n",
       "      <th>ID</th>\n",
       "      <th>sessions</th>\n",
       "      <th>drives</th>\n",
       "      <th>total_sessions</th>\n",
       "      <th>n_days_after_onboarding</th>\n",
       "      <th>total_navigations_fav1</th>\n",
       "      <th>total_navigations_fav2</th>\n",
       "      <th>driven_km_drives</th>\n",
       "      <th>duration_minutes_drives</th>\n",
       "      <th>activity_days</th>\n",
       "      <th>driving_days</th>\n",
       "      <th>km_per_driving_day</th>\n",
       "      <th>label2</th>\n",
       "    </tr>\n",
       "  </thead>\n",
       "  <tbody>\n",
       "    <tr>\n",
       "      <th>ID</th>\n",
       "      <td>1.000000</td>\n",
       "      <td>0.012516</td>\n",
       "      <td>0.011741</td>\n",
       "      <td>0.005986</td>\n",
       "      <td>-0.005300</td>\n",
       "      <td>-0.000560</td>\n",
       "      <td>0.000153</td>\n",
       "      <td>-0.002123</td>\n",
       "      <td>-0.000181</td>\n",
       "      <td>-0.000891</td>\n",
       "      <td>-0.000981</td>\n",
       "      <td>-0.005151</td>\n",
       "      <td>0.004425</td>\n",
       "    </tr>\n",
       "    <tr>\n",
       "      <th>sessions</th>\n",
       "      <td>0.012516</td>\n",
       "      <td>1.000000</td>\n",
       "      <td>0.996843</td>\n",
       "      <td>0.590265</td>\n",
       "      <td>0.006441</td>\n",
       "      <td>0.005252</td>\n",
       "      <td>0.005220</td>\n",
       "      <td>0.003815</td>\n",
       "      <td>-0.005800</td>\n",
       "      <td>0.024594</td>\n",
       "      <td>0.020228</td>\n",
       "      <td>-0.008961</td>\n",
       "      <td>0.038045</td>\n",
       "    </tr>\n",
       "    <tr>\n",
       "      <th>drives</th>\n",
       "      <td>0.011741</td>\n",
       "      <td>0.996843</td>\n",
       "      <td>1.000000</td>\n",
       "      <td>0.588118</td>\n",
       "      <td>0.006001</td>\n",
       "      <td>0.004551</td>\n",
       "      <td>0.006896</td>\n",
       "      <td>0.003708</td>\n",
       "      <td>-0.005376</td>\n",
       "      <td>0.024324</td>\n",
       "      <td>0.019975</td>\n",
       "      <td>-0.008772</td>\n",
       "      <td>0.038548</td>\n",
       "    </tr>\n",
       "    <tr>\n",
       "      <th>total_sessions</th>\n",
       "      <td>0.005986</td>\n",
       "      <td>0.590265</td>\n",
       "      <td>0.588118</td>\n",
       "      <td>1.000000</td>\n",
       "      <td>0.006180</td>\n",
       "      <td>-0.000047</td>\n",
       "      <td>0.007659</td>\n",
       "      <td>0.001690</td>\n",
       "      <td>-0.001457</td>\n",
       "      <td>0.012932</td>\n",
       "      <td>0.009798</td>\n",
       "      <td>-0.015169</td>\n",
       "      <td>0.025046</td>\n",
       "    </tr>\n",
       "    <tr>\n",
       "      <th>n_days_after_onboarding</th>\n",
       "      <td>-0.005300</td>\n",
       "      <td>0.006441</td>\n",
       "      <td>0.006001</td>\n",
       "      <td>0.006180</td>\n",
       "      <td>1.000000</td>\n",
       "      <td>-0.004536</td>\n",
       "      <td>-0.006433</td>\n",
       "      <td>-0.005056</td>\n",
       "      <td>-0.010715</td>\n",
       "      <td>-0.009418</td>\n",
       "      <td>-0.007321</td>\n",
       "      <td>0.011764</td>\n",
       "      <td>-0.129263</td>\n",
       "    </tr>\n",
       "    <tr>\n",
       "      <th>total_navigations_fav1</th>\n",
       "      <td>-0.000560</td>\n",
       "      <td>0.005252</td>\n",
       "      <td>0.004551</td>\n",
       "      <td>-0.000047</td>\n",
       "      <td>-0.004536</td>\n",
       "      <td>1.000000</td>\n",
       "      <td>0.003734</td>\n",
       "      <td>-0.006262</td>\n",
       "      <td>0.005619</td>\n",
       "      <td>0.010318</td>\n",
       "      <td>0.010024</td>\n",
       "      <td>-0.000171</td>\n",
       "      <td>0.055537</td>\n",
       "    </tr>\n",
       "    <tr>\n",
       "      <th>total_navigations_fav2</th>\n",
       "      <td>0.000153</td>\n",
       "      <td>0.005220</td>\n",
       "      <td>0.006896</td>\n",
       "      <td>0.007659</td>\n",
       "      <td>-0.006433</td>\n",
       "      <td>0.003734</td>\n",
       "      <td>1.000000</td>\n",
       "      <td>0.000159</td>\n",
       "      <td>-0.005326</td>\n",
       "      <td>-0.004836</td>\n",
       "      <td>0.000938</td>\n",
       "      <td>0.008992</td>\n",
       "      <td>0.020051</td>\n",
       "    </tr>\n",
       "    <tr>\n",
       "      <th>driven_km_drives</th>\n",
       "      <td>-0.002123</td>\n",
       "      <td>0.003815</td>\n",
       "      <td>0.003708</td>\n",
       "      <td>0.001690</td>\n",
       "      <td>-0.005056</td>\n",
       "      <td>-0.006262</td>\n",
       "      <td>0.000159</td>\n",
       "      <td>1.000000</td>\n",
       "      <td>0.697977</td>\n",
       "      <td>-0.004196</td>\n",
       "      <td>-0.007099</td>\n",
       "      <td>0.355674</td>\n",
       "      <td>0.019050</td>\n",
       "    </tr>\n",
       "    <tr>\n",
       "      <th>duration_minutes_drives</th>\n",
       "      <td>-0.000181</td>\n",
       "      <td>-0.005800</td>\n",
       "      <td>-0.005376</td>\n",
       "      <td>-0.001457</td>\n",
       "      <td>-0.010715</td>\n",
       "      <td>0.005619</td>\n",
       "      <td>-0.005326</td>\n",
       "      <td>0.697977</td>\n",
       "      <td>1.000000</td>\n",
       "      <td>-0.003898</td>\n",
       "      <td>-0.006239</td>\n",
       "      <td>0.245978</td>\n",
       "      <td>0.035678</td>\n",
       "    </tr>\n",
       "    <tr>\n",
       "      <th>activity_days</th>\n",
       "      <td>-0.000891</td>\n",
       "      <td>0.024594</td>\n",
       "      <td>0.024324</td>\n",
       "      <td>0.012932</td>\n",
       "      <td>-0.009418</td>\n",
       "      <td>0.010318</td>\n",
       "      <td>-0.004836</td>\n",
       "      <td>-0.004196</td>\n",
       "      <td>-0.003898</td>\n",
       "      <td>1.000000</td>\n",
       "      <td>0.947687</td>\n",
       "      <td>-0.397433</td>\n",
       "      <td>-0.303851</td>\n",
       "    </tr>\n",
       "    <tr>\n",
       "      <th>driving_days</th>\n",
       "      <td>-0.000981</td>\n",
       "      <td>0.020228</td>\n",
       "      <td>0.019975</td>\n",
       "      <td>0.009798</td>\n",
       "      <td>-0.007321</td>\n",
       "      <td>0.010024</td>\n",
       "      <td>0.000938</td>\n",
       "      <td>-0.007099</td>\n",
       "      <td>-0.006239</td>\n",
       "      <td>0.947687</td>\n",
       "      <td>1.000000</td>\n",
       "      <td>-0.407917</td>\n",
       "      <td>-0.294259</td>\n",
       "    </tr>\n",
       "    <tr>\n",
       "      <th>km_per_driving_day</th>\n",
       "      <td>-0.005151</td>\n",
       "      <td>-0.008961</td>\n",
       "      <td>-0.008772</td>\n",
       "      <td>-0.015169</td>\n",
       "      <td>0.011764</td>\n",
       "      <td>-0.000171</td>\n",
       "      <td>0.008992</td>\n",
       "      <td>0.355674</td>\n",
       "      <td>0.245978</td>\n",
       "      <td>-0.397433</td>\n",
       "      <td>-0.407917</td>\n",
       "      <td>1.000000</td>\n",
       "      <td>0.148583</td>\n",
       "    </tr>\n",
       "    <tr>\n",
       "      <th>label2</th>\n",
       "      <td>0.004425</td>\n",
       "      <td>0.038045</td>\n",
       "      <td>0.038548</td>\n",
       "      <td>0.025046</td>\n",
       "      <td>-0.129263</td>\n",
       "      <td>0.055537</td>\n",
       "      <td>0.020051</td>\n",
       "      <td>0.019050</td>\n",
       "      <td>0.035678</td>\n",
       "      <td>-0.303851</td>\n",
       "      <td>-0.294259</td>\n",
       "      <td>0.148583</td>\n",
       "      <td>1.000000</td>\n",
       "    </tr>\n",
       "  </tbody>\n",
       "</table>\n",
       "</div>"
      ],
      "text/plain": [
       "                               ID  sessions    drives  total_sessions  \\\n",
       "ID                       1.000000  0.012516  0.011741        0.005986   \n",
       "sessions                 0.012516  1.000000  0.996843        0.590265   \n",
       "drives                   0.011741  0.996843  1.000000        0.588118   \n",
       "total_sessions           0.005986  0.590265  0.588118        1.000000   \n",
       "n_days_after_onboarding -0.005300  0.006441  0.006001        0.006180   \n",
       "total_navigations_fav1  -0.000560  0.005252  0.004551       -0.000047   \n",
       "total_navigations_fav2   0.000153  0.005220  0.006896        0.007659   \n",
       "driven_km_drives        -0.002123  0.003815  0.003708        0.001690   \n",
       "duration_minutes_drives -0.000181 -0.005800 -0.005376       -0.001457   \n",
       "activity_days           -0.000891  0.024594  0.024324        0.012932   \n",
       "driving_days            -0.000981  0.020228  0.019975        0.009798   \n",
       "km_per_driving_day      -0.005151 -0.008961 -0.008772       -0.015169   \n",
       "label2                   0.004425  0.038045  0.038548        0.025046   \n",
       "\n",
       "                         n_days_after_onboarding  total_navigations_fav1  \\\n",
       "ID                                     -0.005300               -0.000560   \n",
       "sessions                                0.006441                0.005252   \n",
       "drives                                  0.006001                0.004551   \n",
       "total_sessions                          0.006180               -0.000047   \n",
       "n_days_after_onboarding                 1.000000               -0.004536   \n",
       "total_navigations_fav1                 -0.004536                1.000000   \n",
       "total_navigations_fav2                 -0.006433                0.003734   \n",
       "driven_km_drives                       -0.005056               -0.006262   \n",
       "duration_minutes_drives                -0.010715                0.005619   \n",
       "activity_days                          -0.009418                0.010318   \n",
       "driving_days                           -0.007321                0.010024   \n",
       "km_per_driving_day                      0.011764               -0.000171   \n",
       "label2                                 -0.129263                0.055537   \n",
       "\n",
       "                         total_navigations_fav2  driven_km_drives  \\\n",
       "ID                                     0.000153         -0.002123   \n",
       "sessions                               0.005220          0.003815   \n",
       "drives                                 0.006896          0.003708   \n",
       "total_sessions                         0.007659          0.001690   \n",
       "n_days_after_onboarding               -0.006433         -0.005056   \n",
       "total_navigations_fav1                 0.003734         -0.006262   \n",
       "total_navigations_fav2                 1.000000          0.000159   \n",
       "driven_km_drives                       0.000159          1.000000   \n",
       "duration_minutes_drives               -0.005326          0.697977   \n",
       "activity_days                         -0.004836         -0.004196   \n",
       "driving_days                           0.000938         -0.007099   \n",
       "km_per_driving_day                     0.008992          0.355674   \n",
       "label2                                 0.020051          0.019050   \n",
       "\n",
       "                         duration_minutes_drives  activity_days  driving_days  \\\n",
       "ID                                     -0.000181      -0.000891     -0.000981   \n",
       "sessions                               -0.005800       0.024594      0.020228   \n",
       "drives                                 -0.005376       0.024324      0.019975   \n",
       "total_sessions                         -0.001457       0.012932      0.009798   \n",
       "n_days_after_onboarding                -0.010715      -0.009418     -0.007321   \n",
       "total_navigations_fav1                  0.005619       0.010318      0.010024   \n",
       "total_navigations_fav2                 -0.005326      -0.004836      0.000938   \n",
       "driven_km_drives                        0.697977      -0.004196     -0.007099   \n",
       "duration_minutes_drives                 1.000000      -0.003898     -0.006239   \n",
       "activity_days                          -0.003898       1.000000      0.947687   \n",
       "driving_days                           -0.006239       0.947687      1.000000   \n",
       "km_per_driving_day                      0.245978      -0.397433     -0.407917   \n",
       "label2                                  0.035678      -0.303851     -0.294259   \n",
       "\n",
       "                         km_per_driving_day    label2  \n",
       "ID                                -0.005151  0.004425  \n",
       "sessions                          -0.008961  0.038045  \n",
       "drives                            -0.008772  0.038548  \n",
       "total_sessions                    -0.015169  0.025046  \n",
       "n_days_after_onboarding            0.011764 -0.129263  \n",
       "total_navigations_fav1            -0.000171  0.055537  \n",
       "total_navigations_fav2             0.008992  0.020051  \n",
       "driven_km_drives                   0.355674  0.019050  \n",
       "duration_minutes_drives            0.245978  0.035678  \n",
       "activity_days                     -0.397433 -0.303851  \n",
       "driving_days                      -0.407917 -0.294259  \n",
       "km_per_driving_day                 1.000000  0.148583  \n",
       "label2                             0.148583  1.000000  "
      ]
     },
     "execution_count": 25,
     "metadata": {},
     "output_type": "execute_result"
    }
   ],
   "source": [
    "# Generate a correlation matrix\n",
    "df.corr(method='pearson',numeric_only=True)"
   ]
  },
  {
   "cell_type": "code",
   "execution_count": 26,
   "id": "27b4088b-293f-4770-bd0e-0a1389618fc2",
   "metadata": {},
   "outputs": [
    {
     "data": {
      "text/html": [
       "<style type=\"text/css\">\n",
       "#T_3ccdc_row0_col0, #T_3ccdc_row0_col1, #T_3ccdc_row1_col0, #T_3ccdc_row1_col1, #T_3ccdc_row2_col2, #T_3ccdc_row3_col3, #T_3ccdc_row4_col4, #T_3ccdc_row5_col5, #T_3ccdc_row6_col6, #T_3ccdc_row7_col7, #T_3ccdc_row8_col8, #T_3ccdc_row9_col9, #T_3ccdc_row10_col10 {\n",
       "  background-color: #053061;\n",
       "  color: #f1f1f1;\n",
       "}\n",
       "#T_3ccdc_row0_col2, #T_3ccdc_row1_col2, #T_3ccdc_row2_col0, #T_3ccdc_row2_col1 {\n",
       "  background-color: #4695c4;\n",
       "  color: #f1f1f1;\n",
       "}\n",
       "#T_3ccdc_row0_col3, #T_3ccdc_row0_col6, #T_3ccdc_row0_col7, #T_3ccdc_row0_col8, #T_3ccdc_row1_col3, #T_3ccdc_row1_col6, #T_3ccdc_row1_col7, #T_3ccdc_row1_col8, #T_3ccdc_row2_col3, #T_3ccdc_row2_col7, #T_3ccdc_row2_col8, #T_3ccdc_row3_col0, #T_3ccdc_row3_col1, #T_3ccdc_row3_col2, #T_3ccdc_row4_col7, #T_3ccdc_row6_col0, #T_3ccdc_row6_col1, #T_3ccdc_row6_col7, #T_3ccdc_row6_col9, #T_3ccdc_row7_col0, #T_3ccdc_row7_col1, #T_3ccdc_row7_col2, #T_3ccdc_row7_col4, #T_3ccdc_row7_col6, #T_3ccdc_row7_col8, #T_3ccdc_row8_col0, #T_3ccdc_row8_col1, #T_3ccdc_row8_col2, #T_3ccdc_row8_col7, #T_3ccdc_row9_col6 {\n",
       "  background-color: #f6f7f7;\n",
       "  color: #000000;\n",
       "}\n",
       "#T_3ccdc_row0_col4, #T_3ccdc_row1_col4, #T_3ccdc_row4_col0, #T_3ccdc_row4_col1, #T_3ccdc_row5_col7, #T_3ccdc_row5_col8, #T_3ccdc_row7_col5, #T_3ccdc_row8_col5 {\n",
       "  background-color: #f3f5f6;\n",
       "  color: #000000;\n",
       "}\n",
       "#T_3ccdc_row0_col5, #T_3ccdc_row1_col5, #T_3ccdc_row5_col0, #T_3ccdc_row5_col1, #T_3ccdc_row5_col9, #T_3ccdc_row9_col5 {\n",
       "  background-color: #f0f4f6;\n",
       "  color: #000000;\n",
       "}\n",
       "#T_3ccdc_row0_col9, #T_3ccdc_row1_col9, #T_3ccdc_row2_col6, #T_3ccdc_row2_col9, #T_3ccdc_row3_col4, #T_3ccdc_row3_col6, #T_3ccdc_row3_col7, #T_3ccdc_row3_col8, #T_3ccdc_row4_col3, #T_3ccdc_row4_col8, #T_3ccdc_row4_col9, #T_3ccdc_row6_col2, #T_3ccdc_row6_col3, #T_3ccdc_row6_col8, #T_3ccdc_row7_col3, #T_3ccdc_row7_col9, #T_3ccdc_row7_col10, #T_3ccdc_row8_col3, #T_3ccdc_row8_col4, #T_3ccdc_row8_col6, #T_3ccdc_row8_col10, #T_3ccdc_row9_col0, #T_3ccdc_row9_col1, #T_3ccdc_row9_col2, #T_3ccdc_row9_col4, #T_3ccdc_row9_col7, #T_3ccdc_row9_col10, #T_3ccdc_row10_col7, #T_3ccdc_row10_col8, #T_3ccdc_row10_col9 {\n",
       "  background-color: #f7f6f6;\n",
       "  color: #000000;\n",
       "}\n",
       "#T_3ccdc_row0_col10, #T_3ccdc_row1_col10, #T_3ccdc_row2_col5, #T_3ccdc_row5_col2, #T_3ccdc_row10_col0, #T_3ccdc_row10_col1 {\n",
       "  background-color: #f2f5f6;\n",
       "  color: #000000;\n",
       "}\n",
       "#T_3ccdc_row2_col4, #T_3ccdc_row2_col10, #T_3ccdc_row4_col2, #T_3ccdc_row4_col6, #T_3ccdc_row6_col4, #T_3ccdc_row6_col10, #T_3ccdc_row10_col2, #T_3ccdc_row10_col6 {\n",
       "  background-color: #f5f6f7;\n",
       "  color: #000000;\n",
       "}\n",
       "#T_3ccdc_row3_col5, #T_3ccdc_row5_col3 {\n",
       "  background-color: #fbe5d8;\n",
       "  color: #000000;\n",
       "}\n",
       "#T_3ccdc_row3_col9, #T_3ccdc_row3_col10, #T_3ccdc_row9_col3, #T_3ccdc_row10_col3 {\n",
       "  background-color: #f7f5f4;\n",
       "  color: #000000;\n",
       "}\n",
       "#T_3ccdc_row4_col5, #T_3ccdc_row5_col4 {\n",
       "  background-color: #f9c2a7;\n",
       "  color: #000000;\n",
       "}\n",
       "#T_3ccdc_row4_col10, #T_3ccdc_row10_col4 {\n",
       "  background-color: #0c3d73;\n",
       "  color: #f1f1f1;\n",
       "}\n",
       "#T_3ccdc_row5_col6, #T_3ccdc_row6_col5 {\n",
       "  background-color: #ecf2f5;\n",
       "  color: #000000;\n",
       "}\n",
       "#T_3ccdc_row5_col10, #T_3ccdc_row10_col5 {\n",
       "  background-color: #f8bfa4;\n",
       "  color: #000000;\n",
       "}\n",
       "#T_3ccdc_row8_col9, #T_3ccdc_row9_col8 {\n",
       "  background-color: #327cb7;\n",
       "  color: #f1f1f1;\n",
       "}\n",
       "</style>\n",
       "<table id=\"T_3ccdc\">\n",
       "  <thead>\n",
       "    <tr>\n",
       "      <th class=\"blank level0\" >&nbsp;</th>\n",
       "      <th id=\"T_3ccdc_level0_col0\" class=\"col_heading level0 col0\" >sessions</th>\n",
       "      <th id=\"T_3ccdc_level0_col1\" class=\"col_heading level0 col1\" >drives</th>\n",
       "      <th id=\"T_3ccdc_level0_col2\" class=\"col_heading level0 col2\" >total_sessions</th>\n",
       "      <th id=\"T_3ccdc_level0_col3\" class=\"col_heading level0 col3\" >n_days_after_onboarding</th>\n",
       "      <th id=\"T_3ccdc_level0_col4\" class=\"col_heading level0 col4\" >driving_days</th>\n",
       "      <th id=\"T_3ccdc_level0_col5\" class=\"col_heading level0 col5\" >label2</th>\n",
       "      <th id=\"T_3ccdc_level0_col6\" class=\"col_heading level0 col6\" >total_navigations_fav1</th>\n",
       "      <th id=\"T_3ccdc_level0_col7\" class=\"col_heading level0 col7\" >total_navigations_fav2</th>\n",
       "      <th id=\"T_3ccdc_level0_col8\" class=\"col_heading level0 col8\" >driven_km_drives</th>\n",
       "      <th id=\"T_3ccdc_level0_col9\" class=\"col_heading level0 col9\" >duration_minutes_drives</th>\n",
       "      <th id=\"T_3ccdc_level0_col10\" class=\"col_heading level0 col10\" >activity_days</th>\n",
       "    </tr>\n",
       "  </thead>\n",
       "  <tbody>\n",
       "    <tr>\n",
       "      <th id=\"T_3ccdc_level0_row0\" class=\"row_heading level0 row0\" >sessions</th>\n",
       "      <td id=\"T_3ccdc_row0_col0\" class=\"data row0 col0\" >1.000</td>\n",
       "      <td id=\"T_3ccdc_row0_col1\" class=\"data row0 col1\" >0.997</td>\n",
       "      <td id=\"T_3ccdc_row0_col2\" class=\"data row0 col2\" >0.590</td>\n",
       "      <td id=\"T_3ccdc_row0_col3\" class=\"data row0 col3\" >0.006</td>\n",
       "      <td id=\"T_3ccdc_row0_col4\" class=\"data row0 col4\" >0.020</td>\n",
       "      <td id=\"T_3ccdc_row0_col5\" class=\"data row0 col5\" >0.038</td>\n",
       "      <td id=\"T_3ccdc_row0_col6\" class=\"data row0 col6\" >0.005</td>\n",
       "      <td id=\"T_3ccdc_row0_col7\" class=\"data row0 col7\" >0.005</td>\n",
       "      <td id=\"T_3ccdc_row0_col8\" class=\"data row0 col8\" >0.004</td>\n",
       "      <td id=\"T_3ccdc_row0_col9\" class=\"data row0 col9\" >-0.006</td>\n",
       "      <td id=\"T_3ccdc_row0_col10\" class=\"data row0 col10\" >0.025</td>\n",
       "    </tr>\n",
       "    <tr>\n",
       "      <th id=\"T_3ccdc_level0_row1\" class=\"row_heading level0 row1\" >drives</th>\n",
       "      <td id=\"T_3ccdc_row1_col0\" class=\"data row1 col0\" >0.997</td>\n",
       "      <td id=\"T_3ccdc_row1_col1\" class=\"data row1 col1\" >1.000</td>\n",
       "      <td id=\"T_3ccdc_row1_col2\" class=\"data row1 col2\" >0.588</td>\n",
       "      <td id=\"T_3ccdc_row1_col3\" class=\"data row1 col3\" >0.006</td>\n",
       "      <td id=\"T_3ccdc_row1_col4\" class=\"data row1 col4\" >0.020</td>\n",
       "      <td id=\"T_3ccdc_row1_col5\" class=\"data row1 col5\" >0.039</td>\n",
       "      <td id=\"T_3ccdc_row1_col6\" class=\"data row1 col6\" >0.005</td>\n",
       "      <td id=\"T_3ccdc_row1_col7\" class=\"data row1 col7\" >0.007</td>\n",
       "      <td id=\"T_3ccdc_row1_col8\" class=\"data row1 col8\" >0.004</td>\n",
       "      <td id=\"T_3ccdc_row1_col9\" class=\"data row1 col9\" >-0.005</td>\n",
       "      <td id=\"T_3ccdc_row1_col10\" class=\"data row1 col10\" >0.024</td>\n",
       "    </tr>\n",
       "    <tr>\n",
       "      <th id=\"T_3ccdc_level0_row2\" class=\"row_heading level0 row2\" >total_sessions</th>\n",
       "      <td id=\"T_3ccdc_row2_col0\" class=\"data row2 col0\" >0.590</td>\n",
       "      <td id=\"T_3ccdc_row2_col1\" class=\"data row2 col1\" >0.588</td>\n",
       "      <td id=\"T_3ccdc_row2_col2\" class=\"data row2 col2\" >1.000</td>\n",
       "      <td id=\"T_3ccdc_row2_col3\" class=\"data row2 col3\" >0.006</td>\n",
       "      <td id=\"T_3ccdc_row2_col4\" class=\"data row2 col4\" >0.010</td>\n",
       "      <td id=\"T_3ccdc_row2_col5\" class=\"data row2 col5\" >0.025</td>\n",
       "      <td id=\"T_3ccdc_row2_col6\" class=\"data row2 col6\" >-0.000</td>\n",
       "      <td id=\"T_3ccdc_row2_col7\" class=\"data row2 col7\" >0.008</td>\n",
       "      <td id=\"T_3ccdc_row2_col8\" class=\"data row2 col8\" >0.002</td>\n",
       "      <td id=\"T_3ccdc_row2_col9\" class=\"data row2 col9\" >-0.001</td>\n",
       "      <td id=\"T_3ccdc_row2_col10\" class=\"data row2 col10\" >0.013</td>\n",
       "    </tr>\n",
       "    <tr>\n",
       "      <th id=\"T_3ccdc_level0_row3\" class=\"row_heading level0 row3\" >n_days_after_onboarding</th>\n",
       "      <td id=\"T_3ccdc_row3_col0\" class=\"data row3 col0\" >0.006</td>\n",
       "      <td id=\"T_3ccdc_row3_col1\" class=\"data row3 col1\" >0.006</td>\n",
       "      <td id=\"T_3ccdc_row3_col2\" class=\"data row3 col2\" >0.006</td>\n",
       "      <td id=\"T_3ccdc_row3_col3\" class=\"data row3 col3\" >1.000</td>\n",
       "      <td id=\"T_3ccdc_row3_col4\" class=\"data row3 col4\" >-0.007</td>\n",
       "      <td id=\"T_3ccdc_row3_col5\" class=\"data row3 col5\" >-0.129</td>\n",
       "      <td id=\"T_3ccdc_row3_col6\" class=\"data row3 col6\" >-0.005</td>\n",
       "      <td id=\"T_3ccdc_row3_col7\" class=\"data row3 col7\" >-0.006</td>\n",
       "      <td id=\"T_3ccdc_row3_col8\" class=\"data row3 col8\" >-0.005</td>\n",
       "      <td id=\"T_3ccdc_row3_col9\" class=\"data row3 col9\" >-0.011</td>\n",
       "      <td id=\"T_3ccdc_row3_col10\" class=\"data row3 col10\" >-0.009</td>\n",
       "    </tr>\n",
       "    <tr>\n",
       "      <th id=\"T_3ccdc_level0_row4\" class=\"row_heading level0 row4\" >driving_days</th>\n",
       "      <td id=\"T_3ccdc_row4_col0\" class=\"data row4 col0\" >0.020</td>\n",
       "      <td id=\"T_3ccdc_row4_col1\" class=\"data row4 col1\" >0.020</td>\n",
       "      <td id=\"T_3ccdc_row4_col2\" class=\"data row4 col2\" >0.010</td>\n",
       "      <td id=\"T_3ccdc_row4_col3\" class=\"data row4 col3\" >-0.007</td>\n",
       "      <td id=\"T_3ccdc_row4_col4\" class=\"data row4 col4\" >1.000</td>\n",
       "      <td id=\"T_3ccdc_row4_col5\" class=\"data row4 col5\" >-0.294</td>\n",
       "      <td id=\"T_3ccdc_row4_col6\" class=\"data row4 col6\" >0.010</td>\n",
       "      <td id=\"T_3ccdc_row4_col7\" class=\"data row4 col7\" >0.001</td>\n",
       "      <td id=\"T_3ccdc_row4_col8\" class=\"data row4 col8\" >-0.007</td>\n",
       "      <td id=\"T_3ccdc_row4_col9\" class=\"data row4 col9\" >-0.006</td>\n",
       "      <td id=\"T_3ccdc_row4_col10\" class=\"data row4 col10\" >0.948</td>\n",
       "    </tr>\n",
       "    <tr>\n",
       "      <th id=\"T_3ccdc_level0_row5\" class=\"row_heading level0 row5\" >label2</th>\n",
       "      <td id=\"T_3ccdc_row5_col0\" class=\"data row5 col0\" >0.038</td>\n",
       "      <td id=\"T_3ccdc_row5_col1\" class=\"data row5 col1\" >0.039</td>\n",
       "      <td id=\"T_3ccdc_row5_col2\" class=\"data row5 col2\" >0.025</td>\n",
       "      <td id=\"T_3ccdc_row5_col3\" class=\"data row5 col3\" >-0.129</td>\n",
       "      <td id=\"T_3ccdc_row5_col4\" class=\"data row5 col4\" >-0.294</td>\n",
       "      <td id=\"T_3ccdc_row5_col5\" class=\"data row5 col5\" >1.000</td>\n",
       "      <td id=\"T_3ccdc_row5_col6\" class=\"data row5 col6\" >0.056</td>\n",
       "      <td id=\"T_3ccdc_row5_col7\" class=\"data row5 col7\" >0.020</td>\n",
       "      <td id=\"T_3ccdc_row5_col8\" class=\"data row5 col8\" >0.019</td>\n",
       "      <td id=\"T_3ccdc_row5_col9\" class=\"data row5 col9\" >0.036</td>\n",
       "      <td id=\"T_3ccdc_row5_col10\" class=\"data row5 col10\" >-0.304</td>\n",
       "    </tr>\n",
       "    <tr>\n",
       "      <th id=\"T_3ccdc_level0_row6\" class=\"row_heading level0 row6\" >total_navigations_fav1</th>\n",
       "      <td id=\"T_3ccdc_row6_col0\" class=\"data row6 col0\" >0.005</td>\n",
       "      <td id=\"T_3ccdc_row6_col1\" class=\"data row6 col1\" >0.005</td>\n",
       "      <td id=\"T_3ccdc_row6_col2\" class=\"data row6 col2\" >-0.000</td>\n",
       "      <td id=\"T_3ccdc_row6_col3\" class=\"data row6 col3\" >-0.005</td>\n",
       "      <td id=\"T_3ccdc_row6_col4\" class=\"data row6 col4\" >0.010</td>\n",
       "      <td id=\"T_3ccdc_row6_col5\" class=\"data row6 col5\" >0.056</td>\n",
       "      <td id=\"T_3ccdc_row6_col6\" class=\"data row6 col6\" >1.000</td>\n",
       "      <td id=\"T_3ccdc_row6_col7\" class=\"data row6 col7\" >0.004</td>\n",
       "      <td id=\"T_3ccdc_row6_col8\" class=\"data row6 col8\" >-0.006</td>\n",
       "      <td id=\"T_3ccdc_row6_col9\" class=\"data row6 col9\" >0.006</td>\n",
       "      <td id=\"T_3ccdc_row6_col10\" class=\"data row6 col10\" >0.010</td>\n",
       "    </tr>\n",
       "    <tr>\n",
       "      <th id=\"T_3ccdc_level0_row7\" class=\"row_heading level0 row7\" >total_navigations_fav2</th>\n",
       "      <td id=\"T_3ccdc_row7_col0\" class=\"data row7 col0\" >0.005</td>\n",
       "      <td id=\"T_3ccdc_row7_col1\" class=\"data row7 col1\" >0.007</td>\n",
       "      <td id=\"T_3ccdc_row7_col2\" class=\"data row7 col2\" >0.008</td>\n",
       "      <td id=\"T_3ccdc_row7_col3\" class=\"data row7 col3\" >-0.006</td>\n",
       "      <td id=\"T_3ccdc_row7_col4\" class=\"data row7 col4\" >0.001</td>\n",
       "      <td id=\"T_3ccdc_row7_col5\" class=\"data row7 col5\" >0.020</td>\n",
       "      <td id=\"T_3ccdc_row7_col6\" class=\"data row7 col6\" >0.004</td>\n",
       "      <td id=\"T_3ccdc_row7_col7\" class=\"data row7 col7\" >1.000</td>\n",
       "      <td id=\"T_3ccdc_row7_col8\" class=\"data row7 col8\" >0.000</td>\n",
       "      <td id=\"T_3ccdc_row7_col9\" class=\"data row7 col9\" >-0.005</td>\n",
       "      <td id=\"T_3ccdc_row7_col10\" class=\"data row7 col10\" >-0.005</td>\n",
       "    </tr>\n",
       "    <tr>\n",
       "      <th id=\"T_3ccdc_level0_row8\" class=\"row_heading level0 row8\" >driven_km_drives</th>\n",
       "      <td id=\"T_3ccdc_row8_col0\" class=\"data row8 col0\" >0.004</td>\n",
       "      <td id=\"T_3ccdc_row8_col1\" class=\"data row8 col1\" >0.004</td>\n",
       "      <td id=\"T_3ccdc_row8_col2\" class=\"data row8 col2\" >0.002</td>\n",
       "      <td id=\"T_3ccdc_row8_col3\" class=\"data row8 col3\" >-0.005</td>\n",
       "      <td id=\"T_3ccdc_row8_col4\" class=\"data row8 col4\" >-0.007</td>\n",
       "      <td id=\"T_3ccdc_row8_col5\" class=\"data row8 col5\" >0.019</td>\n",
       "      <td id=\"T_3ccdc_row8_col6\" class=\"data row8 col6\" >-0.006</td>\n",
       "      <td id=\"T_3ccdc_row8_col7\" class=\"data row8 col7\" >0.000</td>\n",
       "      <td id=\"T_3ccdc_row8_col8\" class=\"data row8 col8\" >1.000</td>\n",
       "      <td id=\"T_3ccdc_row8_col9\" class=\"data row8 col9\" >0.698</td>\n",
       "      <td id=\"T_3ccdc_row8_col10\" class=\"data row8 col10\" >-0.004</td>\n",
       "    </tr>\n",
       "    <tr>\n",
       "      <th id=\"T_3ccdc_level0_row9\" class=\"row_heading level0 row9\" >duration_minutes_drives</th>\n",
       "      <td id=\"T_3ccdc_row9_col0\" class=\"data row9 col0\" >-0.006</td>\n",
       "      <td id=\"T_3ccdc_row9_col1\" class=\"data row9 col1\" >-0.005</td>\n",
       "      <td id=\"T_3ccdc_row9_col2\" class=\"data row9 col2\" >-0.001</td>\n",
       "      <td id=\"T_3ccdc_row9_col3\" class=\"data row9 col3\" >-0.011</td>\n",
       "      <td id=\"T_3ccdc_row9_col4\" class=\"data row9 col4\" >-0.006</td>\n",
       "      <td id=\"T_3ccdc_row9_col5\" class=\"data row9 col5\" >0.036</td>\n",
       "      <td id=\"T_3ccdc_row9_col6\" class=\"data row9 col6\" >0.006</td>\n",
       "      <td id=\"T_3ccdc_row9_col7\" class=\"data row9 col7\" >-0.005</td>\n",
       "      <td id=\"T_3ccdc_row9_col8\" class=\"data row9 col8\" >0.698</td>\n",
       "      <td id=\"T_3ccdc_row9_col9\" class=\"data row9 col9\" >1.000</td>\n",
       "      <td id=\"T_3ccdc_row9_col10\" class=\"data row9 col10\" >-0.004</td>\n",
       "    </tr>\n",
       "    <tr>\n",
       "      <th id=\"T_3ccdc_level0_row10\" class=\"row_heading level0 row10\" >activity_days</th>\n",
       "      <td id=\"T_3ccdc_row10_col0\" class=\"data row10 col0\" >0.025</td>\n",
       "      <td id=\"T_3ccdc_row10_col1\" class=\"data row10 col1\" >0.024</td>\n",
       "      <td id=\"T_3ccdc_row10_col2\" class=\"data row10 col2\" >0.013</td>\n",
       "      <td id=\"T_3ccdc_row10_col3\" class=\"data row10 col3\" >-0.009</td>\n",
       "      <td id=\"T_3ccdc_row10_col4\" class=\"data row10 col4\" >0.948</td>\n",
       "      <td id=\"T_3ccdc_row10_col5\" class=\"data row10 col5\" >-0.304</td>\n",
       "      <td id=\"T_3ccdc_row10_col6\" class=\"data row10 col6\" >0.010</td>\n",
       "      <td id=\"T_3ccdc_row10_col7\" class=\"data row10 col7\" >-0.005</td>\n",
       "      <td id=\"T_3ccdc_row10_col8\" class=\"data row10 col8\" >-0.004</td>\n",
       "      <td id=\"T_3ccdc_row10_col9\" class=\"data row10 col9\" >-0.004</td>\n",
       "      <td id=\"T_3ccdc_row10_col10\" class=\"data row10 col10\" >1.000</td>\n",
       "    </tr>\n",
       "  </tbody>\n",
       "</table>\n"
      ],
      "text/plain": [
       "<pandas.io.formats.style.Styler at 0x189e7c33110>"
      ]
     },
     "execution_count": 26,
     "metadata": {},
     "output_type": "execute_result"
    }
   ],
   "source": [
    "# Plot correlation heatmap\n",
    "\n",
    "corr = df[[\"sessions\", \"drives\", \"total_sessions\", \"n_days_after_onboarding\",\"driving_days\", \"label2\",\n",
    "                    \"total_navigations_fav1\", \"total_navigations_fav2\", \"driven_km_drives\", \"duration_minutes_drives\", \"activity_days\"]].corr(numeric_only=True)\n",
    "corr.style.background_gradient(cmap='RdBu',vmin =-1, vmax =1).format(precision=3)\n",
    "\n",
    "\n"
   ]
  },
  {
   "cell_type": "markdown",
   "id": "95c45d57-cf64-4f1d-afdd-a4fb366e7821",
   "metadata": {},
   "source": [
    "#### Observation:\n",
    "we can  see that these Features correlate with the our predictor variable \n",
    "* `total_navigations_fav1`\n",
    "* `drives`\n",
    "* `sessions`               \n",
    "* `duration_minutes_drives`\n",
    "* `total_sessions`\n",
    "* `total_navigations_fav2`\n",
    "* `driven_km_drives`\n",
    "* `driving_days`\n"
   ]
  },
  {
   "cell_type": "markdown",
   "id": "ededf996-5f47-4dc8-9a79-011169d77eef",
   "metadata": {},
   "source": [
    "#### **`percent_sessions_in_last_month`**\n",
    "1. We'll create a new column `percent_sessions_in_last_month` that represents the percentage of each user's total sessions that were logged in their last month of use.\r\n",
    "\r\n",
    "2. Get descriptive statistics for this new feature"
   ]
  },
  {
   "cell_type": "code",
   "execution_count": 27,
   "id": "0c66ca33-b33c-4192-b86d-55d5c0d19182",
   "metadata": {},
   "outputs": [
    {
     "data": {
      "text/plain": [
       "count    14299.000000\n",
       "mean         0.449837\n",
       "std          0.286863\n",
       "min          0.000000\n",
       "25%          0.196890\n",
       "50%          0.424310\n",
       "75%          0.687251\n",
       "max          1.530637\n",
       "Name: percent_sessions_in_last_month, dtype: float64"
      ]
     },
     "execution_count": 27,
     "metadata": {},
     "output_type": "execute_result"
    }
   ],
   "source": [
    "# 1. Create `percent_sessions_in_last_month` feature\n",
    "df['percent_sessions_in_last_month'] = df['sessions'] / df['total_sessions']\n",
    "\n",
    "# 2. Get descriptive stats\n",
    "df['percent_sessions_in_last_month'].describe()"
   ]
  },
  {
   "cell_type": "markdown",
   "id": "d8fc46aa-a693-4dd0-b6c9-73875743fe4a",
   "metadata": {},
   "source": [
    "#### **`professional_driver`**\n",
    "\n",
    "We create a new, binary feature called `professional_driver` that is a 1 for users who had 60 or more drives <u>**and**</u> drove on 15+ days in the last month.\n",
    "\n",
    "**Note:** The objective is to create a new feature that separates professional drivers from other drivers. In this scenario, domain knowledge and intuition are used to determine these deciding thresholds, but ultimately they are arbitrary."
   ]
  },
  {
   "cell_type": "markdown",
   "id": "56117d78-8f69-47ad-b83f-eadc2a32b821",
   "metadata": {},
   "source": [
    "To create this column, we use the [`np.where()`](https://numpy.org/doc/stable/reference/generated/numpy.where.html) function. This function accepts as arguments:\n",
    "1. A condition\n",
    "2. What to return when the condition is true\n",
    "3. What to return when the condition is false\n",
    "\n",
    "```\n",
    "Example:\n",
    "x = [1, 2, 3]\n",
    "x = np.where(x > 2, 100, 0)\n",
    "x\n",
    "array([  0,   0, 100])"
   ]
  },
  {
   "cell_type": "code",
   "execution_count": 28,
   "id": "cbbf30fb-4388-47f5-b6a4-e3d2fc5989a4",
   "metadata": {},
   "outputs": [],
   "source": [
    "# Create `professional_driver` feature\n",
    "df['professional_driver'] = np.where((df['drives'] >= 60) & (df['driving_days'] >= 15), 1, 0)"
   ]
  },
  {
   "cell_type": "code",
   "execution_count": 29,
   "id": "2271031d-eae5-4a67-b00c-1fa675d785f8",
   "metadata": {},
   "outputs": [
    {
     "data": {
      "text/plain": [
       "count    14299.000000\n",
       "mean         0.173998\n",
       "std          0.379121\n",
       "min          0.000000\n",
       "25%          0.000000\n",
       "50%          0.000000\n",
       "75%          0.000000\n",
       "max          1.000000\n",
       "Name: professional_driver, dtype: float64"
      ]
     },
     "execution_count": 29,
     "metadata": {},
     "output_type": "execute_result"
    }
   ],
   "source": [
    "df['professional_driver'].describe()"
   ]
  },
  {
   "cell_type": "markdown",
   "id": "b00f0958-63a4-4e99-9c03-594301917bf7",
   "metadata": {},
   "source": [
    "#### **`total_sessions_per_day`**\n",
    "\n",
    "Now, we 'll create a new column that represents the mean number of sessions per day _since onboarding_."
   ]
  },
  {
   "cell_type": "code",
   "execution_count": 30,
   "id": "5fd1eedf-4219-48fe-9f1d-8184804a7b9b",
   "metadata": {},
   "outputs": [],
   "source": [
    "# Create `total_sessions_per_day` feature\n",
    "df['total_sessions_per_day'] = df['total_sessions'] / df['n_days_after_onboarding']"
   ]
  },
  {
   "cell_type": "markdown",
   "id": "fb6aa425-f5cd-4572-ac3d-3cb316a396a0",
   "metadata": {},
   "source": [
    "As with other features, we'll get descriptive statistics for this new feature."
   ]
  },
  {
   "cell_type": "code",
   "execution_count": 31,
   "id": "d5a9340e-b936-4be4-a269-b7b005c93718",
   "metadata": {},
   "outputs": [
    {
     "data": {
      "text/plain": [
       "count    14299.000000\n",
       "mean         0.338207\n",
       "std          1.319814\n",
       "min          0.000298\n",
       "25%          0.050818\n",
       "50%          0.100457\n",
       "75%          0.215210\n",
       "max         39.763874\n",
       "Name: total_sessions_per_day, dtype: float64"
      ]
     },
     "execution_count": 31,
     "metadata": {},
     "output_type": "execute_result"
    }
   ],
   "source": [
    "# Get descriptive stats\n",
    "df['total_sessions_per_day'].describe()"
   ]
  },
  {
   "cell_type": "markdown",
   "id": "68c29e54-23b4-45a3-8808-e8630e2d8807",
   "metadata": {},
   "source": [
    "#### **`km_per_hour`**\n",
    "\n",
    "Create a column representing the mean kilometers per hour driven in the last month."
   ]
  },
  {
   "cell_type": "code",
   "execution_count": 32,
   "id": "7fa3abef-3d74-48ed-a751-b57cb7154f38",
   "metadata": {},
   "outputs": [
    {
     "data": {
      "text/plain": [
       "count    14299.000000\n",
       "mean       190.730963\n",
       "std        339.926138\n",
       "min         72.013095\n",
       "25%         90.649402\n",
       "50%        122.105845\n",
       "75%        193.238449\n",
       "max      23642.920871\n",
       "Name: km_per_hour, dtype: float64"
      ]
     },
     "execution_count": 32,
     "metadata": {},
     "output_type": "execute_result"
    }
   ],
   "source": [
    "# Create `km_per_hour` feature\n",
    "df['km_per_hour'] = df['driven_km_drives'] / (df['duration_minutes_drives'] / 60)\n",
    "df['km_per_hour'].describe()"
   ]
  },
  {
   "cell_type": "markdown",
   "id": "9fd09920-ecc2-4101-a52d-1e8423a0c08c",
   "metadata": {},
   "source": [
    "These numbers are obviously problematic, and it would be worthwhile to seek clarification from Waze regarding how these features are collected to better understand why such unrealistic speeds are observed."
   ]
  },
  {
   "cell_type": "markdown",
   "id": "fcbef90e-ecea-4357-8b3f-148d64904427",
   "metadata": {},
   "source": [
    "#### **`km_per_drive`**\n",
    "\n",
    "Create a column representing the mean number of kilometers per drive made in the last month for each user. Then, print descriptive statistics for the feature."
   ]
  },
  {
   "cell_type": "code",
   "execution_count": 33,
   "id": "65fb8e16-185c-435a-83cc-9c74b299bc1f",
   "metadata": {},
   "outputs": [
    {
     "data": {
      "text/plain": [
       "count    1.429900e+04\n",
       "mean              inf\n",
       "std               NaN\n",
       "min      1.008775e+00\n",
       "25%      3.325389e+01\n",
       "50%      7.490594e+01\n",
       "75%      1.854667e+02\n",
       "max               inf\n",
       "Name: km_per_drive, dtype: float64"
      ]
     },
     "execution_count": 33,
     "metadata": {},
     "output_type": "execute_result"
    }
   ],
   "source": [
    "# Create `km_per_drive` feature\n",
    "df['km_per_drive'] = df['driven_km_drives'] / df['drives']\n",
    "df['km_per_drive'].describe()"
   ]
  },
  {
   "cell_type": "markdown",
   "id": "7c126f41-7c88-45df-b119-192ff24138c2",
   "metadata": {},
   "source": [
    "This feature has infinite values too.We'll convert the infinite values to zero, then confirm that it worked."
   ]
  },
  {
   "cell_type": "code",
   "execution_count": 34,
   "id": "527eda15-a733-4a47-9bc6-8bce51e3a9f3",
   "metadata": {},
   "outputs": [
    {
     "data": {
      "text/plain": [
       "count    14299.000000\n",
       "mean       232.269197\n",
       "std        616.197409\n",
       "min          0.000000\n",
       "25%         32.486524\n",
       "50%         72.947059\n",
       "75%        179.347527\n",
       "max      15777.426560\n",
       "Name: km_per_drive, dtype: float64"
      ]
     },
     "execution_count": 34,
     "metadata": {},
     "output_type": "execute_result"
    }
   ],
   "source": [
    "# 1. Convert infinite values to zero\n",
    "df.loc[df['km_per_drive']==np.inf, 'km_per_drive'] = 0\n",
    "\n",
    "# 2. Confirm that it worked\n",
    "df['km_per_drive'].describe()"
   ]
  },
  {
   "cell_type": "markdown",
   "id": "cc8f9575-1adc-4e46-9bc2-0442838979fa",
   "metadata": {},
   "source": [
    "#### **`percent_of_sessions_to_favorite`**\n",
    "\n",
    "Finally, we'll create a new column that represents the percentage of total sessions that were used to navigate to one of the users' favorite places. Then, print descriptive statistics for the new column.\n",
    "\n",
    "This is a proxy representation for the percent of overall drives that are to a favorite place. Since total drives since onboarding are not contained in this dataset, total sessions must serve as a reasonable approximation.\n",
    "\n",
    "People whose drives to non-favorite places make up a higher percentage of their total drives might be less likely to churn, since they're making more drives to less familiar places."
   ]
  },
  {
   "cell_type": "code",
   "execution_count": 35,
   "id": "d031e6b8-f11b-4e5e-8081-5bb7eeff139e",
   "metadata": {},
   "outputs": [
    {
     "data": {
      "text/plain": [
       "count    14299.000000\n",
       "mean         1.676347\n",
       "std          9.021250\n",
       "min          0.000000\n",
       "25%          0.206064\n",
       "50%          0.653572\n",
       "75%          1.643183\n",
       "max        777.563629\n",
       "Name: percent_of_drives_to_favorite, dtype: float64"
      ]
     },
     "execution_count": 35,
     "metadata": {},
     "output_type": "execute_result"
    }
   ],
   "source": [
    "# Create `percent_of_sessions_to_favorite` feature\n",
    "df['percent_of_drives_to_favorite'] = (\n",
    "    df['total_navigations_fav1'] + df['total_navigations_fav2']) / df['total_sessions']\n",
    "\n",
    "# Get descriptive stats\n",
    "df['percent_of_drives_to_favorite'].describe()"
   ]
  },
  {
   "cell_type": "markdown",
   "id": "5595f9cc-85be-4ddf-bbbc-e8cb72d5c21c",
   "metadata": {},
   "source": [
    "### **Task 3. Outliers**\n",
    "\n",
    "You know from previous EDA that many of these columns have outliers. However, tree-based models are resilient to outliers, so there is no need to make any imputations."
   ]
  },
  {
   "cell_type": "markdown",
   "id": "37249110-3962-4956-9bff-334b822c92c3",
   "metadata": {},
   "source": [
    "### **Task 4. Variable encoding**"
   ]
  },
  {
   "cell_type": "markdown",
   "id": "31831389-37e4-4b9b-98ac-44b2f8956114",
   "metadata": {},
   "source": [
    "#### **Dummying features**\n",
    "\n",
    "In order to use `device` as an X variable, we'll will need to convert it to binary, since this variable is categorical.\n",
    "\n",
    "In cases where the data contains many categorical variables, we can use pandas built-in [`pd.get_dummies()`](https://pandas.pydata.org/docs/reference/api/pandas.get_dummies.html), or we can use scikit-learn's [`OneHotEncoder()`](https://scikit-learn.org/stable/modules/generated/sklearn.preprocessing.OneHotEncoder.html) function.\n",
    "\n",
    "**Note:** Each possible category of each feature will result in a feature for your model, which could lead to an inadequate ratio of features to observations and/or difficulty understanding your model's predictions.\n",
    "\n",
    "Because this dataset only has one remaining categorical feature (`device`), it's not necessary to use one of these special functions. we can just implement the transformation directly.\n",
    "\n",
    "We'll create a new, binary column called `device2` that encodes user devices as follows:\n",
    "\n",
    "* `Android` -> `0`\n",
    "* `iPhone` -> `1`"
   ]
  },
  {
   "cell_type": "code",
   "execution_count": 36,
   "id": "175e3e62-af4f-49dc-858c-ab4f2cfd9959",
   "metadata": {},
   "outputs": [
    {
     "data": {
      "text/html": [
       "<div>\n",
       "<style scoped>\n",
       "    .dataframe tbody tr th:only-of-type {\n",
       "        vertical-align: middle;\n",
       "    }\n",
       "\n",
       "    .dataframe tbody tr th {\n",
       "        vertical-align: top;\n",
       "    }\n",
       "\n",
       "    .dataframe thead th {\n",
       "        text-align: right;\n",
       "    }\n",
       "</style>\n",
       "<table border=\"1\" class=\"dataframe\">\n",
       "  <thead>\n",
       "    <tr style=\"text-align: right;\">\n",
       "      <th></th>\n",
       "      <th>device</th>\n",
       "      <th>device2</th>\n",
       "    </tr>\n",
       "  </thead>\n",
       "  <tbody>\n",
       "    <tr>\n",
       "      <th>14994</th>\n",
       "      <td>iPhone</td>\n",
       "      <td>1</td>\n",
       "    </tr>\n",
       "    <tr>\n",
       "      <th>14995</th>\n",
       "      <td>Android</td>\n",
       "      <td>0</td>\n",
       "    </tr>\n",
       "    <tr>\n",
       "      <th>14996</th>\n",
       "      <td>iPhone</td>\n",
       "      <td>1</td>\n",
       "    </tr>\n",
       "    <tr>\n",
       "      <th>14997</th>\n",
       "      <td>iPhone</td>\n",
       "      <td>1</td>\n",
       "    </tr>\n",
       "    <tr>\n",
       "      <th>14998</th>\n",
       "      <td>iPhone</td>\n",
       "      <td>1</td>\n",
       "    </tr>\n",
       "  </tbody>\n",
       "</table>\n",
       "</div>"
      ],
      "text/plain": [
       "        device  device2\n",
       "14994   iPhone        1\n",
       "14995  Android        0\n",
       "14996   iPhone        1\n",
       "14997   iPhone        1\n",
       "14998   iPhone        1"
      ]
     },
     "execution_count": 36,
     "metadata": {},
     "output_type": "execute_result"
    }
   ],
   "source": [
    "# Create new `device2` variable\n",
    "df['device2'] = np.where(df['device']=='Android', 0, 1)\n",
    "df[['device', 'device2']].tail()"
   ]
  },
  {
   "cell_type": "markdown",
   "id": "f5bbe066-8cce-4999-ac1d-c9e778bd5d37",
   "metadata": {},
   "source": [
    "### **Task 5. Feature selection**\n",
    "\r\n",
    "Tree-based models can handle multicollinearity, so the only feature that can be cut is `ID`, since it doesn't contain any information relevant to churn.\r\n",
    "\r\n",
    "Note, however, that `device` won't be used simply because it's a copy of `device2`.\r\n",
    "\r\n",
    "Drop `ID` from the `df` dataframe."
   ]
  },
  {
   "cell_type": "code",
   "execution_count": 37,
   "id": "d4f354a1-4ec5-4b81-9612-cc5d2a39d138",
   "metadata": {},
   "outputs": [],
   "source": [
    "# Drop `ID` column\n",
    "df = df.drop(['ID'], axis=1)"
   ]
  },
  {
   "cell_type": "markdown",
   "id": "04c9e380-1038-4831-8709-3cef5596a212",
   "metadata": {},
   "source": [
    "### **Task 6. Evaluation metric**\n",
    "\n",
    "Before modeling, you must decide on an evaluation metric. This will depend on the class balance of the target variable and the use case of the model.\n",
    "\n",
    "First, examine the class balance of your target variable."
   ]
  },
  {
   "cell_type": "code",
   "execution_count": 38,
   "id": "293ec2b3-594f-433b-aeef-d0d132da6bcd",
   "metadata": {},
   "outputs": [
    {
     "data": {
      "text/plain": [
       "label\n",
       "retained    0.822645\n",
       "churned     0.177355\n",
       "Name: proportion, dtype: float64"
      ]
     },
     "execution_count": 38,
     "metadata": {},
     "output_type": "execute_result"
    }
   ],
   "source": [
    "# Get class balance of 'label' col\n",
    "df['label'].value_counts(normalize=True)"
   ]
  },
  {
   "cell_type": "markdown",
   "id": "75f166b7-1d66-417f-97e0-a88de3a4d458",
   "metadata": {},
   "source": [
    "Approximately 18% of the users in this dataset churned. This is an unbalanced dataset, but not extremely so. It can be modeled without any class rebalancing.\n",
    "\n",
    "Now, we'll consider which evaluation metric is best. Remember, accuracy might not be the best gauge of performance because a model can have high accuracy on an imbalanced dataset and still fail to predict the minority class.\n",
    "\n",
    "It was already determined that the risks involved in making a false positive prediction are minimal. No one stands to get hurt, lose money, or suffer any other significant consequence if they are predicted to churn. Therefore, we'll select the model based on the recall score."
   ]
  },
  {
   "cell_type": "markdown",
   "id": "3efdac9b-d122-447f-98a1-9f3fc7e7a4ea",
   "metadata": {},
   "source": [
    "## **PACE: Construct**\n",
    "Consider the questions in your PACE Strategy Document to reflect on the Construct stage."
   ]
  },
  {
   "cell_type": "markdown",
   "id": "a88a6480-56ca-4d1c-8f48-b95e378d39f7",
   "metadata": {},
   "source": [
    "### **Task 7. Split the data**\n",
    "\n",
    "Now you're ready to model. The only remaining step is to split the data into features/target variable and training/validation/test sets.\n",
    "\n",
    "1. Define a variable `X` that isolates the features. Remember not to use `device`.\n",
    "\n",
    "2. Define a variable `y` that isolates the target variable (`label2`).\n",
    "\n",
    "3. Split the data 80/20 into an interim training set and a test set. Don't forget to stratify the splits, and set the random state to 42.\n",
    "\n",
    "4. Split the interim training set 75/25 into a training set and a validation set, yielding a final ratio of 60/20/20 for training/validation/test sets. Again, don't forget to stratify the splits and set the random state."
   ]
  },
  {
   "cell_type": "code",
   "execution_count": 39,
   "id": "df677c98-0fd8-4613-98a7-c4ea38e1e11b",
   "metadata": {},
   "outputs": [],
   "source": [
    "# 1. Isolate X variables\n",
    "X = df.drop(columns=['label', 'label2', 'device'])\n",
    "\n",
    "# 2. Isolate y variable\n",
    "y = df['label2']\n",
    "\n",
    "# 3. Split into train and test sets\n",
    "X_tr, X_test, y_tr, y_test = train_test_split(X, y, stratify=y,\n",
    "                                              test_size=0.2, random_state=42)\n",
    "\n",
    "# 4. Split into train and validate sets\n",
    "X_train, X_val, y_train, y_val = train_test_split(X_tr, y_tr, stratify=y_tr,\n",
    "                                                  test_size=0.25, random_state=42)"
   ]
  },
  {
   "cell_type": "markdown",
   "id": "2b794033-997f-45c7-8810-c820ba5e5ddb",
   "metadata": {},
   "source": [
    "Verify the number of samples in the partitioned data."
   ]
  },
  {
   "cell_type": "code",
   "execution_count": 40,
   "id": "f31bff27-150e-47de-ab9a-1deb17c9c120",
   "metadata": {},
   "outputs": [
    {
     "name": "stdout",
     "output_type": "stream",
     "text": [
      "8579\n",
      "2860\n",
      "2860\n"
     ]
    }
   ],
   "source": [
    "for x in [X_train, X_val, X_test]:\n",
    "    print(len(x))"
   ]
  },
  {
   "cell_type": "markdown",
   "id": "1ff3108a-a084-4051-b0ec-41460856e2fc",
   "metadata": {},
   "source": [
    "Just like we expected."
   ]
  },
  {
   "cell_type": "code",
   "execution_count": 41,
   "id": "de84b2f1-e73a-4a2b-8813-3f64fd465acb",
   "metadata": {},
   "outputs": [
    {
     "data": {
      "text/plain": [
       "Index(['sessions', 'drives', 'total_sessions', 'n_days_after_onboarding',\n",
       "       'total_navigations_fav1', 'total_navigations_fav2', 'driven_km_drives',\n",
       "       'duration_minutes_drives', 'activity_days', 'driving_days',\n",
       "       'km_per_driving_day', 'percent_sessions_in_last_month',\n",
       "       'professional_driver', 'total_sessions_per_day', 'km_per_hour',\n",
       "       'km_per_drive', 'percent_of_drives_to_favorite', 'device2'],\n",
       "      dtype='object')"
      ]
     },
     "execution_count": 41,
     "metadata": {},
     "output_type": "execute_result"
    }
   ],
   "source": [
    "X_train.columns"
   ]
  },
  {
   "cell_type": "markdown",
   "id": "7422565e-f94d-4376-a09d-dc3989ef9644",
   "metadata": {},
   "source": [
    "### **Task 8. Modeling**"
   ]
  },
  {
   "cell_type": "markdown",
   "id": "61ad861c-41ca-47ae-b911-dc9964355b1c",
   "metadata": {},
   "source": [
    "#### **Random forest**\n",
    "\n",
    "Begin with using `GridSearchCV` to tune a random forest model.\n",
    "\n",
    "1. Instantiate the random forest classifier `rf` and set the random state.\n",
    "\n",
    "2. Create a dictionary `cv_params` of any of the following hyperparameters and their corresponding values to tune. The more you tune, the better your model will fit the data, but the longer it will take.\n",
    " - `max_depth`\n",
    " - `max_features`\n",
    " - `max_samples`\n",
    " - `min_samples_leaf`\n",
    " - `min_samples_split`\n",
    " - `n_estimators`\n",
    "\n",
    "3. Define a set `scoring` of scoring metrics for GridSearch to capture (precision, recall, F1 score, and accuracy).\n",
    "\n",
    "4. Instantiate the `GridSearchCV` object `rf_cv`. Pass to it as arguments:\n",
    " - estimator=`rf`\n",
    " - param_grid=`cv_params`\n",
    " - scoring=`scoring`\n",
    " - cv: define the number of cross-validation folds you want (`cv=_`)\n",
    " - refit: indicate which evaluation metric you want to use to select the model (`refit=_`)\n",
    "\n",
    " `refit` should be set to `'recall'`.<font/>"
   ]
  },
  {
   "cell_type": "code",
   "execution_count": 42,
   "id": "b5530e1b-dbdf-4021-881d-9b292f06a016",
   "metadata": {},
   "outputs": [],
   "source": [
    "# 1. Instantiate the random forest classifier\n",
    "rf = RandomForestClassifier(random_state=42)\n",
    "\n",
    "# 2. Create a dictionary of hyperparameters to tune\n",
    "cv_params = {'max_depth': [7, None],\n",
    "             'max_features': [0.8, 1.0],\n",
    "             'max_samples': [1.0],\n",
    "             'min_samples_leaf': [1, 2],\n",
    "             'min_samples_split': [2, 3],\n",
    "             'n_estimators': [200, 300],\n",
    "             }\n",
    "\n",
    "# 3. Define a dictionary of scoring metrics to capture\n",
    "scoring = {'accuracy', 'precision', 'recall', 'f1'}\n",
    "\n",
    "# 4. Instantiate the GridSearchCV object\n",
    "rf_cv = GridSearchCV(rf, cv_params, scoring=scoring, cv=4, refit='recall')"
   ]
  },
  {
   "cell_type": "markdown",
   "id": "e9b4d65e-6098-4e00-b634-5db13ef87a2e",
   "metadata": {},
   "source": [
    "We now fit the model"
   ]
  },
  {
   "cell_type": "code",
   "execution_count": 43,
   "id": "ac09fff4-4610-4a29-b0c9-0068c28a9309",
   "metadata": {},
   "outputs": [
    {
     "name": "stdout",
     "output_type": "stream",
     "text": [
      "CPU times: total: 47min 5s\n",
      "Wall time: 47min 16s\n"
     ]
    },
    {
     "data": {
      "text/html": [
       "<style>#sk-container-id-1 {color: black;background-color: white;}#sk-container-id-1 pre{padding: 0;}#sk-container-id-1 div.sk-toggleable {background-color: white;}#sk-container-id-1 label.sk-toggleable__label {cursor: pointer;display: block;width: 100%;margin-bottom: 0;padding: 0.3em;box-sizing: border-box;text-align: center;}#sk-container-id-1 label.sk-toggleable__label-arrow:before {content: \"▸\";float: left;margin-right: 0.25em;color: #696969;}#sk-container-id-1 label.sk-toggleable__label-arrow:hover:before {color: black;}#sk-container-id-1 div.sk-estimator:hover label.sk-toggleable__label-arrow:before {color: black;}#sk-container-id-1 div.sk-toggleable__content {max-height: 0;max-width: 0;overflow: hidden;text-align: left;background-color: #f0f8ff;}#sk-container-id-1 div.sk-toggleable__content pre {margin: 0.2em;color: black;border-radius: 0.25em;background-color: #f0f8ff;}#sk-container-id-1 input.sk-toggleable__control:checked~div.sk-toggleable__content {max-height: 200px;max-width: 100%;overflow: auto;}#sk-container-id-1 input.sk-toggleable__control:checked~label.sk-toggleable__label-arrow:before {content: \"▾\";}#sk-container-id-1 div.sk-estimator input.sk-toggleable__control:checked~label.sk-toggleable__label {background-color: #d4ebff;}#sk-container-id-1 div.sk-label input.sk-toggleable__control:checked~label.sk-toggleable__label {background-color: #d4ebff;}#sk-container-id-1 input.sk-hidden--visually {border: 0;clip: rect(1px 1px 1px 1px);clip: rect(1px, 1px, 1px, 1px);height: 1px;margin: -1px;overflow: hidden;padding: 0;position: absolute;width: 1px;}#sk-container-id-1 div.sk-estimator {font-family: monospace;background-color: #f0f8ff;border: 1px dotted black;border-radius: 0.25em;box-sizing: border-box;margin-bottom: 0.5em;}#sk-container-id-1 div.sk-estimator:hover {background-color: #d4ebff;}#sk-container-id-1 div.sk-parallel-item::after {content: \"\";width: 100%;border-bottom: 1px solid gray;flex-grow: 1;}#sk-container-id-1 div.sk-label:hover label.sk-toggleable__label {background-color: #d4ebff;}#sk-container-id-1 div.sk-serial::before {content: \"\";position: absolute;border-left: 1px solid gray;box-sizing: border-box;top: 0;bottom: 0;left: 50%;z-index: 0;}#sk-container-id-1 div.sk-serial {display: flex;flex-direction: column;align-items: center;background-color: white;padding-right: 0.2em;padding-left: 0.2em;position: relative;}#sk-container-id-1 div.sk-item {position: relative;z-index: 1;}#sk-container-id-1 div.sk-parallel {display: flex;align-items: stretch;justify-content: center;background-color: white;position: relative;}#sk-container-id-1 div.sk-item::before, #sk-container-id-1 div.sk-parallel-item::before {content: \"\";position: absolute;border-left: 1px solid gray;box-sizing: border-box;top: 0;bottom: 0;left: 50%;z-index: -1;}#sk-container-id-1 div.sk-parallel-item {display: flex;flex-direction: column;z-index: 1;position: relative;background-color: white;}#sk-container-id-1 div.sk-parallel-item:first-child::after {align-self: flex-end;width: 50%;}#sk-container-id-1 div.sk-parallel-item:last-child::after {align-self: flex-start;width: 50%;}#sk-container-id-1 div.sk-parallel-item:only-child::after {width: 0;}#sk-container-id-1 div.sk-dashed-wrapped {border: 1px dashed gray;margin: 0 0.4em 0.5em 0.4em;box-sizing: border-box;padding-bottom: 0.4em;background-color: white;}#sk-container-id-1 div.sk-label label {font-family: monospace;font-weight: bold;display: inline-block;line-height: 1.2em;}#sk-container-id-1 div.sk-label-container {text-align: center;}#sk-container-id-1 div.sk-container {/* jupyter's `normalize.less` sets `[hidden] { display: none; }` but bootstrap.min.css set `[hidden] { display: none !important; }` so we also need the `!important` here to be able to override the default hidden behavior on the sphinx rendered scikit-learn.org. See: https://github.com/scikit-learn/scikit-learn/issues/21755 */display: inline-block !important;position: relative;}#sk-container-id-1 div.sk-text-repr-fallback {display: none;}</style><div id=\"sk-container-id-1\" class=\"sk-top-container\"><div class=\"sk-text-repr-fallback\"><pre>GridSearchCV(cv=4, estimator=RandomForestClassifier(random_state=42),\n",
       "             param_grid={&#x27;max_depth&#x27;: [7, None], &#x27;max_features&#x27;: [0.8, 1.0],\n",
       "                         &#x27;max_samples&#x27;: [1.0], &#x27;min_samples_leaf&#x27;: [1, 2],\n",
       "                         &#x27;min_samples_split&#x27;: [2, 3],\n",
       "                         &#x27;n_estimators&#x27;: [200, 300]},\n",
       "             refit=&#x27;recall&#x27;, scoring={&#x27;f1&#x27;, &#x27;accuracy&#x27;, &#x27;recall&#x27;, &#x27;precision&#x27;})</pre><b>In a Jupyter environment, please rerun this cell to show the HTML representation or trust the notebook. <br />On GitHub, the HTML representation is unable to render, please try loading this page with nbviewer.org.</b></div><div class=\"sk-container\" hidden><div class=\"sk-item sk-dashed-wrapped\"><div class=\"sk-label-container\"><div class=\"sk-label sk-toggleable\"><input class=\"sk-toggleable__control sk-hidden--visually\" id=\"sk-estimator-id-1\" type=\"checkbox\" ><label for=\"sk-estimator-id-1\" class=\"sk-toggleable__label sk-toggleable__label-arrow\">GridSearchCV</label><div class=\"sk-toggleable__content\"><pre>GridSearchCV(cv=4, estimator=RandomForestClassifier(random_state=42),\n",
       "             param_grid={&#x27;max_depth&#x27;: [7, None], &#x27;max_features&#x27;: [0.8, 1.0],\n",
       "                         &#x27;max_samples&#x27;: [1.0], &#x27;min_samples_leaf&#x27;: [1, 2],\n",
       "                         &#x27;min_samples_split&#x27;: [2, 3],\n",
       "                         &#x27;n_estimators&#x27;: [200, 300]},\n",
       "             refit=&#x27;recall&#x27;, scoring={&#x27;f1&#x27;, &#x27;accuracy&#x27;, &#x27;recall&#x27;, &#x27;precision&#x27;})</pre></div></div></div><div class=\"sk-parallel\"><div class=\"sk-parallel-item\"><div class=\"sk-item\"><div class=\"sk-label-container\"><div class=\"sk-label sk-toggleable\"><input class=\"sk-toggleable__control sk-hidden--visually\" id=\"sk-estimator-id-2\" type=\"checkbox\" ><label for=\"sk-estimator-id-2\" class=\"sk-toggleable__label sk-toggleable__label-arrow\">estimator: RandomForestClassifier</label><div class=\"sk-toggleable__content\"><pre>RandomForestClassifier(random_state=42)</pre></div></div></div><div class=\"sk-serial\"><div class=\"sk-item\"><div class=\"sk-estimator sk-toggleable\"><input class=\"sk-toggleable__control sk-hidden--visually\" id=\"sk-estimator-id-3\" type=\"checkbox\" ><label for=\"sk-estimator-id-3\" class=\"sk-toggleable__label sk-toggleable__label-arrow\">RandomForestClassifier</label><div class=\"sk-toggleable__content\"><pre>RandomForestClassifier(random_state=42)</pre></div></div></div></div></div></div></div></div></div></div>"
      ],
      "text/plain": [
       "GridSearchCV(cv=4, estimator=RandomForestClassifier(random_state=42),\n",
       "             param_grid={'max_depth': [7, None], 'max_features': [0.8, 1.0],\n",
       "                         'max_samples': [1.0], 'min_samples_leaf': [1, 2],\n",
       "                         'min_samples_split': [2, 3],\n",
       "                         'n_estimators': [200, 300]},\n",
       "             refit='recall', scoring={'f1', 'accuracy', 'recall', 'precision'})"
      ]
     },
     "execution_count": 43,
     "metadata": {},
     "output_type": "execute_result"
    }
   ],
   "source": [
    "%%time\n",
    "rf_cv.fit(X_train, y_train)"
   ]
  },
  {
   "cell_type": "markdown",
   "id": "198886ac-2d64-404f-be8a-c483772e8eaf",
   "metadata": {},
   "source": [
    "We will now examine the best average score across all the validation folds."
   ]
  },
  {
   "cell_type": "code",
   "execution_count": 44,
   "id": "df72cdad-6b44-4a7c-a210-045a55ed7811",
   "metadata": {},
   "outputs": [
    {
     "data": {
      "text/plain": [
       "0.13204171846940185"
      ]
     },
     "execution_count": 44,
     "metadata": {},
     "output_type": "execute_result"
    }
   ],
   "source": [
    "# Examine best score\n",
    "rf_cv.best_score_"
   ]
  },
  {
   "cell_type": "markdown",
   "id": "1b98b483-cc3e-4c87-84fd-64f666466099",
   "metadata": {},
   "source": [
    "Examine the best combination of hyperparameters."
   ]
  },
  {
   "cell_type": "code",
   "execution_count": 45,
   "id": "e97ee36f-5eda-47c4-9e50-f00df6aa4ddb",
   "metadata": {},
   "outputs": [
    {
     "data": {
      "text/plain": [
       "{'max_depth': None,\n",
       " 'max_features': 1.0,\n",
       " 'max_samples': 1.0,\n",
       " 'min_samples_leaf': 1,\n",
       " 'min_samples_split': 2,\n",
       " 'n_estimators': 200}"
      ]
     },
     "execution_count": 45,
     "metadata": {},
     "output_type": "execute_result"
    }
   ],
   "source": [
    "# Examine best hyperparameter combo\n",
    "rf_cv.best_params_"
   ]
  },
  {
   "cell_type": "markdown",
   "id": "46359cb1-5ac2-4baf-b64d-c1961f6a4f0c",
   "metadata": {},
   "source": [
    "We'll create a helper function `make_results()` to output all of the scores of our model."
   ]
  },
  {
   "cell_type": "code",
   "execution_count": 46,
   "id": "992c31a2-a2da-4c18-a873-ef7c28711983",
   "metadata": {},
   "outputs": [],
   "source": [
    "def make_results(model_name:str, model_object, metric:str):\n",
    "    '''\n",
    "    Arguments:\n",
    "        model_name (string): what you want the model to be called in the output table\n",
    "        model_object: a fit GridSearchCV object\n",
    "        metric (string): precision, recall, f1, or accuracy\n",
    "\n",
    "    Returns a pandas df with the F1, recall, precision, and accuracy scores\n",
    "    for the model with the best mean 'metric' score across all validation folds.\n",
    "    '''\n",
    "\n",
    "    # Create dictionary that maps input metric to actual metric name in GridSearchCV\n",
    "    metric_dict = {'precision': 'mean_test_precision',\n",
    "                   'recall': 'mean_test_recall',\n",
    "                   'f1': 'mean_test_f1',\n",
    "                   'accuracy': 'mean_test_accuracy',\n",
    "                   }\n",
    "\n",
    "    # Get all the results from the CV and put them in a df\n",
    "    cv_results = pd.DataFrame(model_object.cv_results_)\n",
    "\n",
    "    # Isolate the row of the df with the max(metric) score\n",
    "    best_estimator_results = cv_results.iloc[cv_results[metric_dict[metric]].idxmax(), :]\n",
    "\n",
    "    # Extract accuracy, precision, recall, and f1 score from that row\n",
    "    f1 = best_estimator_results.mean_test_f1\n",
    "    recall = best_estimator_results.mean_test_recall\n",
    "    precision = best_estimator_results.mean_test_precision\n",
    "    accuracy = best_estimator_results.mean_test_accuracy\n",
    "\n",
    "    # Create table of results\n",
    "    table = pd.DataFrame({'model': [model_name],\n",
    "                          'precision': [precision],\n",
    "                          'recall': [recall],\n",
    "                          'F1': [f1],\n",
    "                          'accuracy': [accuracy],\n",
    "                          },\n",
    "                         )\n",
    "\n",
    "    return table"
   ]
  },
  {
   "cell_type": "markdown",
   "id": "08536dfd-3162-4334-90c9-9a63dfbe57fa",
   "metadata": {},
   "source": [
    "we'll Pass the `GridSearch` object to the `make_results()` function."
   ]
  },
  {
   "cell_type": "code",
   "execution_count": 47,
   "id": "b94e7588-82cb-4b40-9f6d-f922c0195e90",
   "metadata": {},
   "outputs": [
    {
     "data": {
      "text/html": [
       "<div>\n",
       "<style scoped>\n",
       "    .dataframe tbody tr th:only-of-type {\n",
       "        vertical-align: middle;\n",
       "    }\n",
       "\n",
       "    .dataframe tbody tr th {\n",
       "        vertical-align: top;\n",
       "    }\n",
       "\n",
       "    .dataframe thead th {\n",
       "        text-align: right;\n",
       "    }\n",
       "</style>\n",
       "<table border=\"1\" class=\"dataframe\">\n",
       "  <thead>\n",
       "    <tr style=\"text-align: right;\">\n",
       "      <th></th>\n",
       "      <th>model</th>\n",
       "      <th>precision</th>\n",
       "      <th>recall</th>\n",
       "      <th>F1</th>\n",
       "      <th>accuracy</th>\n",
       "    </tr>\n",
       "  </thead>\n",
       "  <tbody>\n",
       "    <tr>\n",
       "      <th>0</th>\n",
       "      <td>RF cv</td>\n",
       "      <td>0.451745</td>\n",
       "      <td>0.132042</td>\n",
       "      <td>0.204309</td>\n",
       "      <td>0.817694</td>\n",
       "    </tr>\n",
       "  </tbody>\n",
       "</table>\n",
       "</div>"
      ],
      "text/plain": [
       "   model  precision    recall        F1  accuracy\n",
       "0  RF cv   0.451745  0.132042  0.204309  0.817694"
      ]
     },
     "execution_count": 47,
     "metadata": {},
     "output_type": "execute_result"
    }
   ],
   "source": [
    "results = make_results('RF cv', rf_cv, 'recall')\n",
    "results"
   ]
  },
  {
   "cell_type": "markdown",
   "id": "2a64fbbf-6878-4516-9b26-c9fd3a9031fa",
   "metadata": {},
   "source": [
    "#### Observation:\n",
    "Asside from the accuracy, the scores aren't that good. However,which means that this model has 33% better recall and about the same accuracy, and it was trained on less data.\n",
    "\n",
    "We can further tune our hyperparameters to try to get a better score. we might be able to marginally improve the model."
   ]
  },
  {
   "cell_type": "markdown",
   "id": "126721e2-cc5c-49ea-ad2c-3d7b624fad1f",
   "metadata": {},
   "source": [
    "#### **XGBoost**\n",
    "\n",
    "To improve our scores using an XGBoost model. We'll do the following\n",
    "1. Instantiate the XGBoost classifier `xgb` and set `objective='binary:logistic'`. Also set the random state.\n",
    "\n",
    "2. Create a dictionary `cv_params` of the following hyperparameters and their corresponding values to tune:\n",
    " - `max_depth`\n",
    " - `min_child_weight`\n",
    " - `learning_rate`\n",
    " - `n_estimators`\n",
    "\n",
    "3. Define a set `scoring` of scoring metrics for grid search to capture (precision, recall, F1 score, and accuracy).\n",
    "\n",
    "4. Instantiate the `GridSearchCV` object `xgb_cv`. Pass to it as arguments:\n",
    " - estimator=`xgb`\n",
    " - param_grid=`cv_params`\n",
    " - scoring=`scoring`\n",
    " - cv: define the number of cross-validation folds you want (`cv=_`)\n",
    " - refit: indicate which evaluation metric you want to use to select the model (`refit='recall'`)"
   ]
  },
  {
   "cell_type": "code",
   "execution_count": 48,
   "id": "a160af83-af93-4cd7-a3bb-3de41a2774b3",
   "metadata": {},
   "outputs": [],
   "source": [
    "# 1. Instantiate the XGBoost classifier\n",
    "xgb = XGBClassifier(objective='binary:logistic', random_state=42)\n",
    "\n",
    "# 2. Create a dictionary of hyperparameters to tune\n",
    "cv_params = {'max_depth': [4, 8, 12],\n",
    "             'min_child_weight': [3, 5],\n",
    "             'learning_rate': [0.01, 0.1],\n",
    "             'n_estimators': [300, 500]\n",
    "             }\n",
    "\n",
    "# 3. Define a dictionary of scoring metrics to capture\n",
    "scoring = {'accuracy', 'precision', 'recall', 'f1'}\n",
    "\n",
    "# 4. Instantiate the GridSearchCV object\n",
    "xgb_cv = GridSearchCV(xgb, cv_params, scoring=scoring, cv=4, refit='recall')"
   ]
  },
  {
   "cell_type": "markdown",
   "id": "66f1c87f-b561-485a-a25d-0b4f29099961",
   "metadata": {},
   "source": [
    "Now we'll fit the model to the `X_train` and `y_train` data.\n",
    "\n",
    "Note this cell might take several minutes to run."
   ]
  },
  {
   "cell_type": "code",
   "execution_count": 49,
   "id": "62d7fc42-4a10-4f15-8407-27b15961e47c",
   "metadata": {},
   "outputs": [
    {
     "name": "stdout",
     "output_type": "stream",
     "text": [
      "CPU times: total: 43min 31s\n",
      "Wall time: 6min 12s\n"
     ]
    },
    {
     "data": {
      "text/html": [
       "<style>#sk-container-id-2 {color: black;background-color: white;}#sk-container-id-2 pre{padding: 0;}#sk-container-id-2 div.sk-toggleable {background-color: white;}#sk-container-id-2 label.sk-toggleable__label {cursor: pointer;display: block;width: 100%;margin-bottom: 0;padding: 0.3em;box-sizing: border-box;text-align: center;}#sk-container-id-2 label.sk-toggleable__label-arrow:before {content: \"▸\";float: left;margin-right: 0.25em;color: #696969;}#sk-container-id-2 label.sk-toggleable__label-arrow:hover:before {color: black;}#sk-container-id-2 div.sk-estimator:hover label.sk-toggleable__label-arrow:before {color: black;}#sk-container-id-2 div.sk-toggleable__content {max-height: 0;max-width: 0;overflow: hidden;text-align: left;background-color: #f0f8ff;}#sk-container-id-2 div.sk-toggleable__content pre {margin: 0.2em;color: black;border-radius: 0.25em;background-color: #f0f8ff;}#sk-container-id-2 input.sk-toggleable__control:checked~div.sk-toggleable__content {max-height: 200px;max-width: 100%;overflow: auto;}#sk-container-id-2 input.sk-toggleable__control:checked~label.sk-toggleable__label-arrow:before {content: \"▾\";}#sk-container-id-2 div.sk-estimator input.sk-toggleable__control:checked~label.sk-toggleable__label {background-color: #d4ebff;}#sk-container-id-2 div.sk-label input.sk-toggleable__control:checked~label.sk-toggleable__label {background-color: #d4ebff;}#sk-container-id-2 input.sk-hidden--visually {border: 0;clip: rect(1px 1px 1px 1px);clip: rect(1px, 1px, 1px, 1px);height: 1px;margin: -1px;overflow: hidden;padding: 0;position: absolute;width: 1px;}#sk-container-id-2 div.sk-estimator {font-family: monospace;background-color: #f0f8ff;border: 1px dotted black;border-radius: 0.25em;box-sizing: border-box;margin-bottom: 0.5em;}#sk-container-id-2 div.sk-estimator:hover {background-color: #d4ebff;}#sk-container-id-2 div.sk-parallel-item::after {content: \"\";width: 100%;border-bottom: 1px solid gray;flex-grow: 1;}#sk-container-id-2 div.sk-label:hover label.sk-toggleable__label {background-color: #d4ebff;}#sk-container-id-2 div.sk-serial::before {content: \"\";position: absolute;border-left: 1px solid gray;box-sizing: border-box;top: 0;bottom: 0;left: 50%;z-index: 0;}#sk-container-id-2 div.sk-serial {display: flex;flex-direction: column;align-items: center;background-color: white;padding-right: 0.2em;padding-left: 0.2em;position: relative;}#sk-container-id-2 div.sk-item {position: relative;z-index: 1;}#sk-container-id-2 div.sk-parallel {display: flex;align-items: stretch;justify-content: center;background-color: white;position: relative;}#sk-container-id-2 div.sk-item::before, #sk-container-id-2 div.sk-parallel-item::before {content: \"\";position: absolute;border-left: 1px solid gray;box-sizing: border-box;top: 0;bottom: 0;left: 50%;z-index: -1;}#sk-container-id-2 div.sk-parallel-item {display: flex;flex-direction: column;z-index: 1;position: relative;background-color: white;}#sk-container-id-2 div.sk-parallel-item:first-child::after {align-self: flex-end;width: 50%;}#sk-container-id-2 div.sk-parallel-item:last-child::after {align-self: flex-start;width: 50%;}#sk-container-id-2 div.sk-parallel-item:only-child::after {width: 0;}#sk-container-id-2 div.sk-dashed-wrapped {border: 1px dashed gray;margin: 0 0.4em 0.5em 0.4em;box-sizing: border-box;padding-bottom: 0.4em;background-color: white;}#sk-container-id-2 div.sk-label label {font-family: monospace;font-weight: bold;display: inline-block;line-height: 1.2em;}#sk-container-id-2 div.sk-label-container {text-align: center;}#sk-container-id-2 div.sk-container {/* jupyter's `normalize.less` sets `[hidden] { display: none; }` but bootstrap.min.css set `[hidden] { display: none !important; }` so we also need the `!important` here to be able to override the default hidden behavior on the sphinx rendered scikit-learn.org. See: https://github.com/scikit-learn/scikit-learn/issues/21755 */display: inline-block !important;position: relative;}#sk-container-id-2 div.sk-text-repr-fallback {display: none;}</style><div id=\"sk-container-id-2\" class=\"sk-top-container\"><div class=\"sk-text-repr-fallback\"><pre>GridSearchCV(cv=4,\n",
       "             estimator=XGBClassifier(base_score=None, booster=None,\n",
       "                                     callbacks=None, colsample_bylevel=None,\n",
       "                                     colsample_bynode=None,\n",
       "                                     colsample_bytree=None,\n",
       "                                     early_stopping_rounds=None,\n",
       "                                     enable_categorical=False, eval_metric=None,\n",
       "                                     feature_types=None, gamma=None,\n",
       "                                     gpu_id=None, grow_policy=None,\n",
       "                                     importance_type=None,\n",
       "                                     interaction_constraints=None,\n",
       "                                     learning_rate=None,...\n",
       "                                     max_delta_step=None, max_depth=None,\n",
       "                                     max_leaves=None, min_child_weight=None,\n",
       "                                     missing=nan, monotone_constraints=None,\n",
       "                                     n_estimators=100, n_jobs=None,\n",
       "                                     num_parallel_tree=None, predictor=None,\n",
       "                                     random_state=42, ...),\n",
       "             param_grid={&#x27;learning_rate&#x27;: [0.01, 0.1], &#x27;max_depth&#x27;: [4, 8, 12],\n",
       "                         &#x27;min_child_weight&#x27;: [3, 5],\n",
       "                         &#x27;n_estimators&#x27;: [300, 500]},\n",
       "             refit=&#x27;recall&#x27;, scoring={&#x27;f1&#x27;, &#x27;accuracy&#x27;, &#x27;recall&#x27;, &#x27;precision&#x27;})</pre><b>In a Jupyter environment, please rerun this cell to show the HTML representation or trust the notebook. <br />On GitHub, the HTML representation is unable to render, please try loading this page with nbviewer.org.</b></div><div class=\"sk-container\" hidden><div class=\"sk-item sk-dashed-wrapped\"><div class=\"sk-label-container\"><div class=\"sk-label sk-toggleable\"><input class=\"sk-toggleable__control sk-hidden--visually\" id=\"sk-estimator-id-4\" type=\"checkbox\" ><label for=\"sk-estimator-id-4\" class=\"sk-toggleable__label sk-toggleable__label-arrow\">GridSearchCV</label><div class=\"sk-toggleable__content\"><pre>GridSearchCV(cv=4,\n",
       "             estimator=XGBClassifier(base_score=None, booster=None,\n",
       "                                     callbacks=None, colsample_bylevel=None,\n",
       "                                     colsample_bynode=None,\n",
       "                                     colsample_bytree=None,\n",
       "                                     early_stopping_rounds=None,\n",
       "                                     enable_categorical=False, eval_metric=None,\n",
       "                                     feature_types=None, gamma=None,\n",
       "                                     gpu_id=None, grow_policy=None,\n",
       "                                     importance_type=None,\n",
       "                                     interaction_constraints=None,\n",
       "                                     learning_rate=None,...\n",
       "                                     max_delta_step=None, max_depth=None,\n",
       "                                     max_leaves=None, min_child_weight=None,\n",
       "                                     missing=nan, monotone_constraints=None,\n",
       "                                     n_estimators=100, n_jobs=None,\n",
       "                                     num_parallel_tree=None, predictor=None,\n",
       "                                     random_state=42, ...),\n",
       "             param_grid={&#x27;learning_rate&#x27;: [0.01, 0.1], &#x27;max_depth&#x27;: [4, 8, 12],\n",
       "                         &#x27;min_child_weight&#x27;: [3, 5],\n",
       "                         &#x27;n_estimators&#x27;: [300, 500]},\n",
       "             refit=&#x27;recall&#x27;, scoring={&#x27;f1&#x27;, &#x27;accuracy&#x27;, &#x27;recall&#x27;, &#x27;precision&#x27;})</pre></div></div></div><div class=\"sk-parallel\"><div class=\"sk-parallel-item\"><div class=\"sk-item\"><div class=\"sk-label-container\"><div class=\"sk-label sk-toggleable\"><input class=\"sk-toggleable__control sk-hidden--visually\" id=\"sk-estimator-id-5\" type=\"checkbox\" ><label for=\"sk-estimator-id-5\" class=\"sk-toggleable__label sk-toggleable__label-arrow\">estimator: XGBClassifier</label><div class=\"sk-toggleable__content\"><pre>XGBClassifier(base_score=None, booster=None, callbacks=None,\n",
       "              colsample_bylevel=None, colsample_bynode=None,\n",
       "              colsample_bytree=None, early_stopping_rounds=None,\n",
       "              enable_categorical=False, eval_metric=None, feature_types=None,\n",
       "              gamma=None, gpu_id=None, grow_policy=None, importance_type=None,\n",
       "              interaction_constraints=None, learning_rate=None, max_bin=None,\n",
       "              max_cat_threshold=None, max_cat_to_onehot=None,\n",
       "              max_delta_step=None, max_depth=None, max_leaves=None,\n",
       "              min_child_weight=None, missing=nan, monotone_constraints=None,\n",
       "              n_estimators=100, n_jobs=None, num_parallel_tree=None,\n",
       "              predictor=None, random_state=42, ...)</pre></div></div></div><div class=\"sk-serial\"><div class=\"sk-item\"><div class=\"sk-estimator sk-toggleable\"><input class=\"sk-toggleable__control sk-hidden--visually\" id=\"sk-estimator-id-6\" type=\"checkbox\" ><label for=\"sk-estimator-id-6\" class=\"sk-toggleable__label sk-toggleable__label-arrow\">XGBClassifier</label><div class=\"sk-toggleable__content\"><pre>XGBClassifier(base_score=None, booster=None, callbacks=None,\n",
       "              colsample_bylevel=None, colsample_bynode=None,\n",
       "              colsample_bytree=None, early_stopping_rounds=None,\n",
       "              enable_categorical=False, eval_metric=None, feature_types=None,\n",
       "              gamma=None, gpu_id=None, grow_policy=None, importance_type=None,\n",
       "              interaction_constraints=None, learning_rate=None, max_bin=None,\n",
       "              max_cat_threshold=None, max_cat_to_onehot=None,\n",
       "              max_delta_step=None, max_depth=None, max_leaves=None,\n",
       "              min_child_weight=None, missing=nan, monotone_constraints=None,\n",
       "              n_estimators=100, n_jobs=None, num_parallel_tree=None,\n",
       "              predictor=None, random_state=42, ...)</pre></div></div></div></div></div></div></div></div></div></div>"
      ],
      "text/plain": [
       "GridSearchCV(cv=4,\n",
       "             estimator=XGBClassifier(base_score=None, booster=None,\n",
       "                                     callbacks=None, colsample_bylevel=None,\n",
       "                                     colsample_bynode=None,\n",
       "                                     colsample_bytree=None,\n",
       "                                     early_stopping_rounds=None,\n",
       "                                     enable_categorical=False, eval_metric=None,\n",
       "                                     feature_types=None, gamma=None,\n",
       "                                     gpu_id=None, grow_policy=None,\n",
       "                                     importance_type=None,\n",
       "                                     interaction_constraints=None,\n",
       "                                     learning_rate=None,...\n",
       "                                     max_delta_step=None, max_depth=None,\n",
       "                                     max_leaves=None, min_child_weight=None,\n",
       "                                     missing=nan, monotone_constraints=None,\n",
       "                                     n_estimators=100, n_jobs=None,\n",
       "                                     num_parallel_tree=None, predictor=None,\n",
       "                                     random_state=42, ...),\n",
       "             param_grid={'learning_rate': [0.01, 0.1], 'max_depth': [4, 8, 12],\n",
       "                         'min_child_weight': [3, 5],\n",
       "                         'n_estimators': [300, 500]},\n",
       "             refit='recall', scoring={'f1', 'accuracy', 'recall', 'precision'})"
      ]
     },
     "execution_count": 49,
     "metadata": {},
     "output_type": "execute_result"
    }
   ],
   "source": [
    "%%time\n",
    "xgb_cv.fit(X_train, y_train)"
   ]
  },
  {
   "cell_type": "markdown",
   "id": "f248c782-6a01-4cca-8cd3-f4e4d756a02d",
   "metadata": {},
   "source": [
    "We'll get the best score from this model."
   ]
  },
  {
   "cell_type": "code",
   "execution_count": 50,
   "id": "40b11c2c-60f3-4edc-bba8-e527ce465ba6",
   "metadata": {},
   "outputs": [
    {
     "data": {
      "text/plain": [
       "0.1760947644702307"
      ]
     },
     "execution_count": 50,
     "metadata": {},
     "output_type": "execute_result"
    }
   ],
   "source": [
    "# Examine best score\n",
    "xgb_cv.best_score_"
   ]
  },
  {
   "cell_type": "markdown",
   "id": "26db52a6-d01c-43fe-acf6-4664bd2b0740",
   "metadata": {},
   "source": [
    "And the best parameters."
   ]
  },
  {
   "cell_type": "code",
   "execution_count": 51,
   "id": "1ef14566-8849-47dd-af88-bd5d2ae23dc0",
   "metadata": {},
   "outputs": [
    {
     "data": {
      "text/plain": [
       "{'learning_rate': 0.1,\n",
       " 'max_depth': 12,\n",
       " 'min_child_weight': 3,\n",
       " 'n_estimators': 500}"
      ]
     },
     "execution_count": 51,
     "metadata": {},
     "output_type": "execute_result"
    }
   ],
   "source": [
    "# Examine best parameters\n",
    "xgb_cv.best_params_"
   ]
  },
  {
   "cell_type": "markdown",
   "id": "855a667b-4a61-438f-852a-7b2136c5f079",
   "metadata": {},
   "source": [
    "We'll se the `make_results()` function to output all of the scores of your model. Note that the function accepts three arguments."
   ]
  },
  {
   "cell_type": "code",
   "execution_count": 52,
   "id": "557fd6ba-9de4-46aa-bbe8-70cd508669e7",
   "metadata": {},
   "outputs": [
    {
     "data": {
      "text/html": [
       "<div>\n",
       "<style scoped>\n",
       "    .dataframe tbody tr th:only-of-type {\n",
       "        vertical-align: middle;\n",
       "    }\n",
       "\n",
       "    .dataframe tbody tr th {\n",
       "        vertical-align: top;\n",
       "    }\n",
       "\n",
       "    .dataframe thead th {\n",
       "        text-align: right;\n",
       "    }\n",
       "</style>\n",
       "<table border=\"1\" class=\"dataframe\">\n",
       "  <thead>\n",
       "    <tr style=\"text-align: right;\">\n",
       "      <th></th>\n",
       "      <th>model</th>\n",
       "      <th>precision</th>\n",
       "      <th>recall</th>\n",
       "      <th>F1</th>\n",
       "      <th>accuracy</th>\n",
       "    </tr>\n",
       "  </thead>\n",
       "  <tbody>\n",
       "    <tr>\n",
       "      <th>0</th>\n",
       "      <td>RF cv</td>\n",
       "      <td>0.451745</td>\n",
       "      <td>0.132042</td>\n",
       "      <td>0.204309</td>\n",
       "      <td>0.817694</td>\n",
       "    </tr>\n",
       "    <tr>\n",
       "      <th>0</th>\n",
       "      <td>XGB cv</td>\n",
       "      <td>0.419592</td>\n",
       "      <td>0.176095</td>\n",
       "      <td>0.247733</td>\n",
       "      <td>0.810817</td>\n",
       "    </tr>\n",
       "  </tbody>\n",
       "</table>\n",
       "</div>"
      ],
      "text/plain": [
       "    model  precision    recall        F1  accuracy\n",
       "0   RF cv   0.451745  0.132042  0.204309  0.817694\n",
       "0  XGB cv   0.419592  0.176095  0.247733  0.810817"
      ]
     },
     "execution_count": 52,
     "metadata": {},
     "output_type": "execute_result"
    }
   ],
   "source": [
    "# Call 'make_results()' on the GridSearch object\n",
    "xgb_cv_results = make_results('XGB cv', xgb_cv, 'recall')\n",
    "results = pd.concat([results, xgb_cv_results], axis=0)\n",
    "results"
   ]
  },
  {
   "cell_type": "markdown",
   "id": "2fe7c7d6-4983-405e-ac78-bd0397a18071",
   "metadata": {},
   "source": [
    "#### Observation:\n",
    "This model fit the data even better than the random forest model. The recall score is nearly double the recall score from the logistic regression model from the previous course, and it's almost 50% better than the random forest model's recall score, while maintaining a similar accuracy and precision score."
   ]
  },
  {
   "cell_type": "markdown",
   "id": "aa57e715-597f-4ac8-aac6-560e8fd3fb65",
   "metadata": {},
   "source": [
    "### **Task 9. Model selection**\n",
    "\n",
    "Now, we'll use the best random forest model and the best XGBoost model to predict on the validation data. Whichever performs better will be selected as the champion model."
   ]
  },
  {
   "cell_type": "markdown",
   "id": "6d1f121b-91c5-4bf1-9ae1-454cac6e4031",
   "metadata": {},
   "source": [
    "#### **Random forest**"
   ]
  },
  {
   "cell_type": "code",
   "execution_count": 53,
   "id": "0429c5bd-e003-4d8c-af19-24be77e5ae2a",
   "metadata": {},
   "outputs": [],
   "source": [
    "# We random forest model to predict on validation data\n",
    "rf_val_preds = rf_cv.best_estimator_.predict(X_val)"
   ]
  },
  {
   "cell_type": "markdown",
   "id": "b034b82f-4095-4e36-a068-9f513306b24e",
   "metadata": {},
   "source": [
    "We'll use the `get_test_scores()` function to generate a table of scores from the predictions on the validation data."
   ]
  },
  {
   "cell_type": "code",
   "execution_count": 54,
   "id": "8d947280-59d8-46bf-8cf3-a002ab13a607",
   "metadata": {},
   "outputs": [],
   "source": [
    "def get_test_scores(model_name:str, preds, y_test_data):\n",
    "    '''\n",
    "    Generate a table of test scores.\n",
    "\n",
    "    In:\n",
    "        model_name (string): Your choice: how the model will be named in the output table\n",
    "        preds: numpy array of test predictions\n",
    "        y_test_data: numpy array of y_test data\n",
    "\n",
    "    Out:\n",
    "        table: a pandas df of precision, recall, f1, and accuracy scores for your model\n",
    "    '''\n",
    "    accuracy = accuracy_score(y_test_data, preds)\n",
    "    precision = precision_score(y_test_data, preds)\n",
    "    recall = recall_score(y_test_data, preds)\n",
    "    f1 = f1_score(y_test_data, preds)\n",
    "\n",
    "    table = pd.DataFrame({'model': [model_name],\n",
    "                          'precision': [precision],\n",
    "                          'recall': [recall],\n",
    "                          'F1': [f1],\n",
    "                          'accuracy': [accuracy]\n",
    "                          })\n",
    "\n",
    "    return table"
   ]
  },
  {
   "cell_type": "code",
   "execution_count": 55,
   "id": "f429b236-980d-4531-af84-0d961e8041c8",
   "metadata": {},
   "outputs": [
    {
     "data": {
      "text/html": [
       "<div>\n",
       "<style scoped>\n",
       "    .dataframe tbody tr th:only-of-type {\n",
       "        vertical-align: middle;\n",
       "    }\n",
       "\n",
       "    .dataframe tbody tr th {\n",
       "        vertical-align: top;\n",
       "    }\n",
       "\n",
       "    .dataframe thead th {\n",
       "        text-align: right;\n",
       "    }\n",
       "</style>\n",
       "<table border=\"1\" class=\"dataframe\">\n",
       "  <thead>\n",
       "    <tr style=\"text-align: right;\">\n",
       "      <th></th>\n",
       "      <th>model</th>\n",
       "      <th>precision</th>\n",
       "      <th>recall</th>\n",
       "      <th>F1</th>\n",
       "      <th>accuracy</th>\n",
       "    </tr>\n",
       "  </thead>\n",
       "  <tbody>\n",
       "    <tr>\n",
       "      <th>0</th>\n",
       "      <td>RF cv</td>\n",
       "      <td>0.451745</td>\n",
       "      <td>0.132042</td>\n",
       "      <td>0.204309</td>\n",
       "      <td>0.817694</td>\n",
       "    </tr>\n",
       "    <tr>\n",
       "      <th>0</th>\n",
       "      <td>XGB cv</td>\n",
       "      <td>0.419592</td>\n",
       "      <td>0.176095</td>\n",
       "      <td>0.247733</td>\n",
       "      <td>0.810817</td>\n",
       "    </tr>\n",
       "    <tr>\n",
       "      <th>0</th>\n",
       "      <td>RF val</td>\n",
       "      <td>0.443038</td>\n",
       "      <td>0.138067</td>\n",
       "      <td>0.210526</td>\n",
       "      <td>0.816434</td>\n",
       "    </tr>\n",
       "  </tbody>\n",
       "</table>\n",
       "</div>"
      ],
      "text/plain": [
       "    model  precision    recall        F1  accuracy\n",
       "0   RF cv   0.451745  0.132042  0.204309  0.817694\n",
       "0  XGB cv   0.419592  0.176095  0.247733  0.810817\n",
       "0  RF val   0.443038  0.138067  0.210526  0.816434"
      ]
     },
     "execution_count": 55,
     "metadata": {},
     "output_type": "execute_result"
    }
   ],
   "source": [
    "# Get validation scores for RF model\n",
    "rf_val_scores = get_test_scores('RF val', rf_val_preds, y_val)\n",
    "\n",
    "# Append to the results table\n",
    "results = pd.concat([results, rf_val_scores], axis=0)\n",
    "results"
   ]
  },
  {
   "cell_type": "markdown",
   "id": "5c9dbb32-fae9-4580-b9ef-e390452c2707",
   "metadata": {},
   "source": [
    "Notice that the scores went down from the training scores across all metrics, but only by very little. This means that the model did not overfit the training data."
   ]
  },
  {
   "cell_type": "markdown",
   "id": "9764d767-32f2-4856-97c1-158e46f21156",
   "metadata": {},
   "source": [
    "#### **XGBoost**\n",
    "\n",
    "Now, do the same thing to get the performance scores of the XGBoost model on the validation data."
   ]
  },
  {
   "cell_type": "code",
   "execution_count": 56,
   "id": "83b455d4-fe9c-4cec-840b-f18c6f47541e",
   "metadata": {},
   "outputs": [
    {
     "data": {
      "text/html": [
       "<div>\n",
       "<style scoped>\n",
       "    .dataframe tbody tr th:only-of-type {\n",
       "        vertical-align: middle;\n",
       "    }\n",
       "\n",
       "    .dataframe tbody tr th {\n",
       "        vertical-align: top;\n",
       "    }\n",
       "\n",
       "    .dataframe thead th {\n",
       "        text-align: right;\n",
       "    }\n",
       "</style>\n",
       "<table border=\"1\" class=\"dataframe\">\n",
       "  <thead>\n",
       "    <tr style=\"text-align: right;\">\n",
       "      <th></th>\n",
       "      <th>model</th>\n",
       "      <th>precision</th>\n",
       "      <th>recall</th>\n",
       "      <th>F1</th>\n",
       "      <th>accuracy</th>\n",
       "    </tr>\n",
       "  </thead>\n",
       "  <tbody>\n",
       "    <tr>\n",
       "      <th>0</th>\n",
       "      <td>RF cv</td>\n",
       "      <td>0.451745</td>\n",
       "      <td>0.132042</td>\n",
       "      <td>0.204309</td>\n",
       "      <td>0.817694</td>\n",
       "    </tr>\n",
       "    <tr>\n",
       "      <th>0</th>\n",
       "      <td>XGB cv</td>\n",
       "      <td>0.419592</td>\n",
       "      <td>0.176095</td>\n",
       "      <td>0.247733</td>\n",
       "      <td>0.810817</td>\n",
       "    </tr>\n",
       "    <tr>\n",
       "      <th>0</th>\n",
       "      <td>RF val</td>\n",
       "      <td>0.443038</td>\n",
       "      <td>0.138067</td>\n",
       "      <td>0.210526</td>\n",
       "      <td>0.816434</td>\n",
       "    </tr>\n",
       "    <tr>\n",
       "      <th>0</th>\n",
       "      <td>XGB val</td>\n",
       "      <td>0.395122</td>\n",
       "      <td>0.159763</td>\n",
       "      <td>0.227528</td>\n",
       "      <td>0.807692</td>\n",
       "    </tr>\n",
       "  </tbody>\n",
       "</table>\n",
       "</div>"
      ],
      "text/plain": [
       "     model  precision    recall        F1  accuracy\n",
       "0    RF cv   0.451745  0.132042  0.204309  0.817694\n",
       "0   XGB cv   0.419592  0.176095  0.247733  0.810817\n",
       "0   RF val   0.443038  0.138067  0.210526  0.816434\n",
       "0  XGB val   0.395122  0.159763  0.227528  0.807692"
      ]
     },
     "execution_count": 56,
     "metadata": {},
     "output_type": "execute_result"
    }
   ],
   "source": [
    "# Use XGBoost model to predict on validation data\n",
    "xgb_val_preds = xgb_cv.best_estimator_.predict(X_val)\n",
    "\n",
    "# Get validation scores for XGBoost model\n",
    "xgb_val_scores = get_test_scores('XGB val', xgb_val_preds, y_val)\n",
    "\n",
    "# Append to the results table\n",
    "results = pd.concat([results, xgb_val_scores], axis=0)\n",
    "results"
   ]
  },
  {
   "cell_type": "markdown",
   "id": "37e513b5-d6f7-4248-bdd9-b5a204efe295",
   "metadata": {},
   "source": [
    "Just like with the random forest model, the XGBoost model's validation scores were lower, but only very slightly. It is still the clear champion."
   ]
  },
  {
   "cell_type": "markdown",
   "id": "c3b3417a-7b7e-4977-a4da-a184178ae2fe",
   "metadata": {},
   "source": [
    "## **PACE: Execute**\n",
    "We'll consider the questions in our PACE Strategy Document to reflect on the Execute stage."
   ]
  },
  {
   "cell_type": "markdown",
   "id": "dc90ffc6-9f36-423f-9bd7-469a574c0b51",
   "metadata": {},
   "source": [
    "### **Task 10. Use champion model to predict on test data**\n",
    "\n",
    "Now, we'll use the champion model to predict on the test dataset. This is to give a final indication of how we should expect the model to perform on new future data, should we decide to use the model."
   ]
  },
  {
   "cell_type": "code",
   "execution_count": 57,
   "id": "3256b1f4-5d14-459d-9867-6ee763149d93",
   "metadata": {},
   "outputs": [
    {
     "data": {
      "text/html": [
       "<div>\n",
       "<style scoped>\n",
       "    .dataframe tbody tr th:only-of-type {\n",
       "        vertical-align: middle;\n",
       "    }\n",
       "\n",
       "    .dataframe tbody tr th {\n",
       "        vertical-align: top;\n",
       "    }\n",
       "\n",
       "    .dataframe thead th {\n",
       "        text-align: right;\n",
       "    }\n",
       "</style>\n",
       "<table border=\"1\" class=\"dataframe\">\n",
       "  <thead>\n",
       "    <tr style=\"text-align: right;\">\n",
       "      <th></th>\n",
       "      <th>model</th>\n",
       "      <th>precision</th>\n",
       "      <th>recall</th>\n",
       "      <th>F1</th>\n",
       "      <th>accuracy</th>\n",
       "    </tr>\n",
       "  </thead>\n",
       "  <tbody>\n",
       "    <tr>\n",
       "      <th>0</th>\n",
       "      <td>RF cv</td>\n",
       "      <td>0.451745</td>\n",
       "      <td>0.132042</td>\n",
       "      <td>0.204309</td>\n",
       "      <td>0.817694</td>\n",
       "    </tr>\n",
       "    <tr>\n",
       "      <th>0</th>\n",
       "      <td>XGB cv</td>\n",
       "      <td>0.419592</td>\n",
       "      <td>0.176095</td>\n",
       "      <td>0.247733</td>\n",
       "      <td>0.810817</td>\n",
       "    </tr>\n",
       "    <tr>\n",
       "      <th>0</th>\n",
       "      <td>RF val</td>\n",
       "      <td>0.443038</td>\n",
       "      <td>0.138067</td>\n",
       "      <td>0.210526</td>\n",
       "      <td>0.816434</td>\n",
       "    </tr>\n",
       "    <tr>\n",
       "      <th>0</th>\n",
       "      <td>XGB val</td>\n",
       "      <td>0.395122</td>\n",
       "      <td>0.159763</td>\n",
       "      <td>0.227528</td>\n",
       "      <td>0.807692</td>\n",
       "    </tr>\n",
       "    <tr>\n",
       "      <th>0</th>\n",
       "      <td>XGB test</td>\n",
       "      <td>0.378723</td>\n",
       "      <td>0.175542</td>\n",
       "      <td>0.239892</td>\n",
       "      <td>0.802797</td>\n",
       "    </tr>\n",
       "  </tbody>\n",
       "</table>\n",
       "</div>"
      ],
      "text/plain": [
       "      model  precision    recall        F1  accuracy\n",
       "0     RF cv   0.451745  0.132042  0.204309  0.817694\n",
       "0    XGB cv   0.419592  0.176095  0.247733  0.810817\n",
       "0    RF val   0.443038  0.138067  0.210526  0.816434\n",
       "0   XGB val   0.395122  0.159763  0.227528  0.807692\n",
       "0  XGB test   0.378723  0.175542  0.239892  0.802797"
      ]
     },
     "execution_count": 57,
     "metadata": {},
     "output_type": "execute_result"
    }
   ],
   "source": [
    "# Use XGBoost model to predict on test data\n",
    "xgb_test_preds = xgb_cv.best_estimator_.predict(X_test)\n",
    "\n",
    "# Get test scores for XGBoost model\n",
    "xgb_test_scores = get_test_scores('XGB test', xgb_test_preds, y_test)\n",
    "\n",
    "# Append to the results table\n",
    "results = pd.concat([results, xgb_test_scores], axis=0)\n",
    "results"
   ]
  },
  {
   "cell_type": "markdown",
   "id": "629177f8-d186-48af-85cf-b7dc44b0e3bb",
   "metadata": {},
   "source": [
    "#### Observation:\n",
    "The Champion Model performed better with the test data across all metrics. "
   ]
  },
  {
   "cell_type": "markdown",
   "id": "b83faedf-3213-4882-bb07-563beb7c3a5d",
   "metadata": {},
   "source": [
    "### **Task 11. Confusion matrix**\n",
    "\n",
    "we'll Plot a confusion matrix of the champion model's predictions on the test data."
   ]
  },
  {
   "cell_type": "code",
   "execution_count": 58,
   "id": "d2d63c73-4f29-4bb1-9ef1-8f9386488855",
   "metadata": {},
   "outputs": [
    {
     "data": {
      "image/png": "[encoded data removed]",
      "text/plain": [
       "<Figure size 640x480 with 2 Axes>"
      ]
     },
     "metadata": {},
     "output_type": "display_data"
    }
   ],
   "source": [
    "# Generate array of values for confusion matrix\n",
    "cm = confusion_matrix(y_test, xgb_test_preds, labels=xgb_cv.classes_)\n",
    "\n",
    "# Plot confusion matrix\n",
    "disp = ConfusionMatrixDisplay(confusion_matrix=cm,\n",
    "                             display_labels=['retained', 'churned'])\n",
    "disp.plot();"
   ]
  },
  {
   "cell_type": "markdown",
   "id": "47f76340-6509-4575-a59f-28545e2487c4",
   "metadata": {},
   "source": [
    "#### Observation:\n",
    "The model predicted three times as many false negatives than it did false positives, and it correctly identified only 16.6% of the users who actually churned."
   ]
  },
  {
   "cell_type": "markdown",
   "id": "7bc1b3ca-b823-4d2d-80f7-be9707955307",
   "metadata": {},
   "source": [
    "### **Task 11. Feature importance**\n",
    "\n",
    "Use the `plot_importance` function to inspect the most important features of your final model."
   ]
  },
  {
   "cell_type": "code",
   "execution_count": 59,
   "id": "7cf78ccb-3518-4e5f-8ed9-40a41c77d902",
   "metadata": {},
   "outputs": [
    {
     "data": {
      "image/png": "[encoded data removed]",
      "text/plain": [
       "<Figure size 640x480 with 1 Axes>"
      ]
     },
     "metadata": {},
     "output_type": "display_data"
    }
   ],
   "source": [
    "plot_importance(xgb_cv.best_estimator_);"
   ]
  },
  {
   "cell_type": "markdown",
   "id": "44ceec9b-421e-4971-87ff-9c84c0173389",
   "metadata": {},
   "source": [
    "#### Observation:\n",
    "\n",
    "This underscores the importance of feature engineering. Notice that engineered features accounted for six of the top 10 features (and three of the top five). Feature engineering is often one of the best and easiest ways to boost model performance.\n",
    "\n",
    "Also, note that the important features in one model might not be the same as the important features in another model. That's why you shouldn't discount features as unimportant without thoroughly examining them and understanding their relationship with the dependent variable, if possible. These discrepancies between features selected by models are typically caused by complex feature interactions.\n",
    "\n",
    "Remember, sometimes our data simply will not be predictive of your chosen target. This is common. Machine learning is a powerful tool, but it is not magic. If your data does not contain predictive signal, even the most complex algorithm will not be able to deliver consistent and accurate predictions. Do not be afraid to draw this conclusion.\n",
    "\n",
    "Even if you cannot use the model to make strong predictions, was the work done in vain? What insights can you report back to stakeholders?"
   ]
  },
  {
   "cell_type": "markdown",
   "id": "3cddb0cc-ecc8-4e60-ac7b-b392149c7409",
   "metadata": {},
   "source": [
    "### **Task 15. Conclusion**\n",
    "\n",
    "Now that we've built and tested our machine learning models, the next step is to share our findings with the Waze leadership team. The following are our recommendations\n",
    "\n",
    "\n",
    "1. Would you recommend using this model for churn prediction? Why or why not?\n",
    "\n",
    "> _It depends. What would the model be used for? If it's used to drive consequential business decisions, then no. The model is not a strong enough predictor, as made clear by its poor recall score. However, if the model is only being used to guide further exploratory efforts, then it can have value._\n",
    "\n",
    "2. What tradeoff was made by splitting the data into training, validation, and test sets as opposed to just training and test sets?\n",
    "\n",
    "> _Splitting the data three ways means that there is less data available to train the model than splitting just two ways. However, performing model selection on a separate validation set enables testing of the champion model by itself on the test set, which gives a better estimate of future performance than splitting the data two ways and selecting a champion model by performance on the test data._\n",
    "\n",
    "3. What is the benefit of using a logistic regression model over an ensemble of tree-based models (like random forest or XGBoost) for classification tasks?\n",
    "\n",
    "> _Logistic regression models are easier to interpret. Because they assign coefficients to predictor variables, they reveal not only which features factored most heavily into their final predictions, but also the directionality of the weight. In other words, they tell you if each feature is positively or negatively correlated with the target in the model's final prediction._\n",
    "\n",
    "4. What is the benefit of using an ensemble of tree-based models like random forest or XGBoost over a logistic regression model for classification tasks?\n",
    "\n",
    "> _Tree-based model ensembles are often better predictors. If the most important thing is the predictive power of the model, then tree-based modeling will usually win out against logistic regression (but not always!). They also require much less data cleaning and require fewer assumptions about the underlying distributions of their predictor variables, so they're easier to work with._\n",
    "\n",
    "5. What could you do to improve this model?\n",
    "\n",
    "> _New features could be engineered to try to generate better predictive signal, as they often do if you have domain knowledge. In the case of this model, the engineered features made up over half of the top 10 most-predictive features used by the model. It could also be helpful to reconstruct the model with different combinations of predictor variables to reduce noise from unpredictive features._\r\n",
    "\r\n",
    "6. What additional features would you like to have to help improve the model?\r\n",
    "\r\n",
    "> _It would be helpful to have drive-level information for each user (such as drive times, geographic locations, etc.). It would probably also be helpful to have more granular data to know how users interact with the app. For example, how often do they report or confirm road hazard alerts? Finally, it could be helpful to know the monthly count of unique starting and ending locations each driver inputs._\r\n"
   ]
  }
 ],
 "metadata": {
  "kernelspec": {
   "display_name": "Python 3 (ipykernel)",
   "language": "python",
   "name": "python3"
  },
  "language_info": {
   "codemirror_mode": {
    "name": "ipython",
    "version": 3
   },
   "file_extension": ".py",
   "mimetype": "text/x-python",
   "name": "python",
   "nbconvert_exporter": "python",
   "pygments_lexer": "ipython3",
   "version": "3.11.5"
  }
 },
 "nbformat": 4,
 "nbformat_minor": 5
}
